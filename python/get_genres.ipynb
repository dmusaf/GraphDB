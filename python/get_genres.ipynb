{
 "cells": [
  {
   "cell_type": "code",
   "execution_count": 13,
   "metadata": {},
   "outputs": [],
   "source": [
    "import pandas as pd"
   ]
  },
  {
   "cell_type": "code",
   "execution_count": 14,
   "metadata": {},
   "outputs": [],
   "source": [
    "data = pd.read_csv(\"../data/movies.csv\")"
   ]
  },
  {
   "cell_type": "code",
   "execution_count": 15,
   "metadata": {},
   "outputs": [
    {
     "data": {
      "text/html": [
       "<div>\n",
       "<style scoped>\n",
       "    .dataframe tbody tr th:only-of-type {\n",
       "        vertical-align: middle;\n",
       "    }\n",
       "\n",
       "    .dataframe tbody tr th {\n",
       "        vertical-align: top;\n",
       "    }\n",
       "\n",
       "    .dataframe thead th {\n",
       "        text-align: right;\n",
       "    }\n",
       "</style>\n",
       "<table border=\"1\" class=\"dataframe\">\n",
       "  <thead>\n",
       "    <tr style=\"text-align: right;\">\n",
       "      <th></th>\n",
       "      <th>Unnamed: 0</th>\n",
       "      <th>tmdb_id</th>\n",
       "      <th>movie_id</th>\n",
       "      <th>popularity</th>\n",
       "      <th>original_title</th>\n",
       "      <th>genres</th>\n",
       "      <th>release_date</th>\n",
       "    </tr>\n",
       "  </thead>\n",
       "  <tbody>\n",
       "    <tr>\n",
       "      <th>0</th>\n",
       "      <td>0</td>\n",
       "      <td>862</td>\n",
       "      <td>1</td>\n",
       "      <td>126.006</td>\n",
       "      <td>Toy Story</td>\n",
       "      <td>['Animation', 'Adventure', 'Family', 'Comedy']</td>\n",
       "      <td>1995-10-30</td>\n",
       "    </tr>\n",
       "    <tr>\n",
       "      <th>1</th>\n",
       "      <td>1</td>\n",
       "      <td>8844</td>\n",
       "      <td>2</td>\n",
       "      <td>19.343</td>\n",
       "      <td>Jumanji</td>\n",
       "      <td>['Adventure', 'Fantasy', 'Family']</td>\n",
       "      <td>1995-12-15</td>\n",
       "    </tr>\n",
       "    <tr>\n",
       "      <th>2</th>\n",
       "      <td>2</td>\n",
       "      <td>15602</td>\n",
       "      <td>3</td>\n",
       "      <td>13.496</td>\n",
       "      <td>Grumpier Old Men</td>\n",
       "      <td>['Romance', 'Comedy']</td>\n",
       "      <td>1995-12-22</td>\n",
       "    </tr>\n",
       "    <tr>\n",
       "      <th>3</th>\n",
       "      <td>3</td>\n",
       "      <td>31357</td>\n",
       "      <td>4</td>\n",
       "      <td>10.476</td>\n",
       "      <td>Waiting to Exhale</td>\n",
       "      <td>['Comedy', 'Drama', 'Romance']</td>\n",
       "      <td>1995-12-22</td>\n",
       "    </tr>\n",
       "    <tr>\n",
       "      <th>4</th>\n",
       "      <td>4</td>\n",
       "      <td>11862</td>\n",
       "      <td>5</td>\n",
       "      <td>17.105</td>\n",
       "      <td>Father of the Bride Part II</td>\n",
       "      <td>['Comedy', 'Family']</td>\n",
       "      <td>1995-12-08</td>\n",
       "    </tr>\n",
       "  </tbody>\n",
       "</table>\n",
       "</div>"
      ],
      "text/plain": [
       "   Unnamed: 0  tmdb_id  movie_id  popularity               original_title  \\\n",
       "0           0      862         1     126.006                    Toy Story   \n",
       "1           1     8844         2      19.343                      Jumanji   \n",
       "2           2    15602         3      13.496             Grumpier Old Men   \n",
       "3           3    31357         4      10.476            Waiting to Exhale   \n",
       "4           4    11862         5      17.105  Father of the Bride Part II   \n",
       "\n",
       "                                           genres release_date  \n",
       "0  ['Animation', 'Adventure', 'Family', 'Comedy']   1995-10-30  \n",
       "1              ['Adventure', 'Fantasy', 'Family']   1995-12-15  \n",
       "2                           ['Romance', 'Comedy']   1995-12-22  \n",
       "3                  ['Comedy', 'Drama', 'Romance']   1995-12-22  \n",
       "4                            ['Comedy', 'Family']   1995-12-08  "
      ]
     },
     "execution_count": 15,
     "metadata": {},
     "output_type": "execute_result"
    }
   ],
   "source": [
    "data.head()"
   ]
  },
  {
   "cell_type": "code",
   "execution_count": 16,
   "metadata": {},
   "outputs": [
    {
     "data": {
      "text/plain": [
       "0    ['Animation', 'Adventure', 'Family', 'Comedy']\n",
       "Name: genres, dtype: object"
      ]
     },
     "execution_count": 16,
     "metadata": {},
     "output_type": "execute_result"
    }
   ],
   "source": [
    "data[data[\"movie_id\"] == 1][\"genres\"]"
   ]
  },
  {
   "cell_type": "code",
   "execution_count": 17,
   "metadata": {},
   "outputs": [],
   "source": [
    "def split(s):\n",
    "    return [word.strip(\"'\") for word in s.strip(\"][\").split(\", \")]"
   ]
  },
  {
   "cell_type": "code",
   "execution_count": 18,
   "metadata": {},
   "outputs": [
    {
     "name": "stdout",
     "output_type": "stream",
     "text": [
      "Animation\n"
     ]
    }
   ],
   "source": [
    "print(split(\"['Animation', 'Adventure', 'Family', 'Comedy']\")[0])"
   ]
  },
  {
   "cell_type": "code",
   "execution_count": 19,
   "metadata": {},
   "outputs": [],
   "source": [
    "import csv"
   ]
  },
  {
   "cell_type": "code",
   "execution_count": 20,
   "metadata": {},
   "outputs": [],
   "source": [
    "with open(\"../data/genres.csv\", \"w\", newline=\"\") as f:\n",
    "    csv_writer = csv.writer(f)\n",
    "    csv_writer.writerow(['movie_id', 'genre'])\n",
    "    for index, row in data.iterrows():\n",
    "        movie_id = row['movie_id']\n",
    "        for genre in split(row['genres']):\n",
    "            if (genre != \"\"):\n",
    "                csv_writer.writerow([movie_id, genre])"
   ]
  },
  {
   "cell_type": "code",
   "execution_count": 21,
   "metadata": {},
   "outputs": [
    {
     "data": {
      "text/plain": [
       "137    []\n",
       "Name: genres, dtype: object"
      ]
     },
     "execution_count": 21,
     "metadata": {},
     "output_type": "execute_result"
    }
   ],
   "source": [
    "data[data['movie_id']==139][\"genres\"]"
   ]
  }
 ],
 "metadata": {
  "kernelspec": {
   "display_name": "Python 3",
   "language": "python",
   "name": "python3"
  },
  "language_info": {
   "codemirror_mode": {
    "name": "ipython",
    "version": 3
   },
   "file_extension": ".py",
   "mimetype": "text/x-python",
   "name": "python",
   "nbconvert_exporter": "python",
   "pygments_lexer": "ipython3",
   "version": "3.11.0"
  },
  "orig_nbformat": 4,
  "vscode": {
   "interpreter": {
    "hash": "1a1af0ee75eeea9e2e1ee996c87e7a2b11a0bebd85af04bb136d915cefc0abce"
   }
  }
 },
 "nbformat": 4,
 "nbformat_minor": 2
}
