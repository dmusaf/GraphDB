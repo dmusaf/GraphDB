{
 "cells": [
  {
   "cell_type": "markdown",
   "id": "669f373b-fba6-44e1-afbf-c4097045b2c8",
   "metadata": {},
   "source": [
    "# Node embeddings with the `graphdatascience` driver"
   ]
  },
  {
   "cell_type": "markdown",
   "id": "6635f56a-65d6-43a8-9b4f-ed024516b143",
   "metadata": {},
   "source": [
    "In this notebook, we try to recommend movies with respect to the ratings that were given by the users."
   ]
  },
  {
   "cell_type": "code",
   "execution_count": 1,
   "id": "104dbae6-9a80-4eca-9ce3-bf18a216270e",
   "metadata": {},
   "outputs": [],
   "source": [
    "import numpy as np\n",
    "from numpy.linalg import norm\n",
    "from graphdatascience import GraphDataScience"
   ]
  },
  {
   "cell_type": "markdown",
   "id": "0f734a56-e576-47ca-9824-055f65ac1df9",
   "metadata": {},
   "source": [
    "### Connection\n",
    "\n",
    "Here we connect to our database"
   ]
  },
  {
   "cell_type": "code",
   "execution_count": 2,
   "id": "50320e66-da85-478f-beb9-d543ce589c52",
   "metadata": {},
   "outputs": [],
   "source": [
    "host = \"bolt://127.0.0.1:7687\"\n",
    "user = \"neo4j\"\n",
    "password= \"1234\""
   ]
  },
  {
   "cell_type": "code",
   "execution_count": 3,
   "id": "ce55e84c-0586-43da-90fd-8b65532bb46a",
   "metadata": {},
   "outputs": [],
   "source": [
    "gds = GraphDataScience(host, auth=(user, password))"
   ]
  },
  {
   "cell_type": "markdown",
   "id": "152735d6-7790-422b-9874-80ccc9730f0e",
   "metadata": {},
   "source": [
    "### Projection\n",
    "\n",
    "Here we define our projection, we only need nodes labeled `Movie` and `User`. For the relations, we are only interessed in the `RATED` relationship with it's property `grade` which gives us the grade that the User gave to that movie."
   ]
  },
  {
   "cell_type": "markdown",
   "id": "0475a36b-25bb-4eeb-9486-9e79bdfd2f12",
   "metadata": {},
   "source": [
    "We check how much memory it will cost us to do this operation (We will always check that in order to avoid starting an algorithm that our machine won't be able to compute)"
   ]
  },
  {
   "cell_type": "code",
   "execution_count": 4,
   "id": "72a7b635-9bf3-4233-a34f-43c9dd156847",
   "metadata": {},
   "outputs": [
    {
     "name": "stdout",
     "output_type": "stream",
     "text": [
      "Required memory : [5843 KiB ... 5907 KiB]\n"
     ]
    }
   ],
   "source": [
    "nodes = [\"User\", \"Movie\"]\n",
    "relationships = {\"RATED\": {\"orientation\": \"UNDIRECTED\", \"properties\": \"grade\"}}\n",
    "\n",
    "result = gds.graph.project.estimate(nodes, relationships)\n",
    "\n",
    "print(\"Required memory : \" + result['requiredMemory'])\n"
   ]
  },
  {
   "cell_type": "markdown",
   "id": "3cc6e847-5b58-4f49-b33d-77419df92c63",
   "metadata": {},
   "source": [
    "Because the memory required is relatively low we compute the projection."
   ]
  },
  {
   "cell_type": "code",
   "execution_count": 5,
   "id": "d6f37be2-8f27-4fe0-bd4c-420dac675c01",
   "metadata": {},
   "outputs": [
    {
     "data": {
      "application/vnd.jupyter.widget-view+json": {
       "model_id": "971c6df2eb8f43c5a3ad8a644fc28b00",
       "version_major": 2,
       "version_minor": 0
      },
      "text/plain": [
       "Loading:   0%|          | 0/100 [00:00<?, ?%/s]"
      ]
     },
     "metadata": {},
     "output_type": "display_data"
    },
    {
     "name": "stdout",
     "output_type": "stream",
     "text": [
      "10352 nodes created\n"
     ]
    }
   ],
   "source": [
    "G, result = gds.graph.project(\"ratings\", nodes, relationships)\n",
    "\n",
    "# We can use convenience methods on `G` to check if the projection looks correct\n",
    "print(G.node_count(), \"nodes created\")"
   ]
  },
  {
   "cell_type": "markdown",
   "id": "439e8d36-c028-4b38-b207-85ad96ef9f5f",
   "metadata": {},
   "source": [
    "### FastRP"
   ]
  },
  {
   "cell_type": "markdown",
   "id": "5435f0c5-bc07-4e53-b176-0af5f8d5af6e",
   "metadata": {},
   "source": [
    "Now we want to compute the embedding of each movie. For that, first, we will use the FastRP algorithm because it encapsulates our idea of closeness for a movie i.e "
   ]
  },
  {
   "cell_type": "code",
   "execution_count": 6,
   "id": "9d8fc79e-c90b-4f42-a345-9feae622c5e7",
   "metadata": {},
   "outputs": [
    {
     "name": "stdout",
     "output_type": "stream",
     "text": [
      "2183 KiB\n"
     ]
    }
   ],
   "source": [
    "result = gds.fastRP.mutate.estimate(\n",
    "    G,\n",
    "    mutateProperty=\"embedding\",\n",
    "    embeddingDimension=10,\n",
    "    relationshipWeightProperty=\"grade\",\n",
    ")\n",
    "\n",
    "print(result['requiredMemory'])"
   ]
  },
  {
   "cell_type": "markdown",
   "id": "f4b0663c-3625-40b4-89d3-fdfca54f5e23",
   "metadata": {},
   "source": [
    "Here we launch the algorithm with the `write` syntax which means that it will \"write\" in our database, which we need in order to get the vector in this notebook."
   ]
  },
  {
   "cell_type": "code",
   "execution_count": 7,
   "id": "7c679f82-55a7-4e4a-bd5d-411bd7daee71",
   "metadata": {},
   "outputs": [
    {
     "data": {
      "application/vnd.jupyter.widget-view+json": {
       "model_id": "6ae08e8b07dc4302a80a566c6392d9d8",
       "version_major": 2,
       "version_minor": 0
      },
      "text/plain": [
       "FastRP:   0%|          | 0/100 [00:00<?, ?%/s]"
      ]
     },
     "metadata": {},
     "output_type": "display_data"
    },
    {
     "name": "stdout",
     "output_type": "stream",
     "text": [
      "Number of embedding vectors : 10352\n"
     ]
    }
   ],
   "source": [
    "result = gds.fastRP.write(\n",
    "    G,\n",
    "    writeProperty=\"embedding\",\n",
    "    randomSeed=42,\n",
    "    embeddingDimension=10,\n",
    "    relationshipWeightProperty=\"grade\"\n",
    ")\n",
    "\n",
    "# Let's make sure we got an embedding for each node\n",
    "print(\"Number of embedding vectors :\", result['nodePropertiesWritten'])"
   ]
  },
  {
   "cell_type": "markdown",
   "id": "e63bbbe8-24b4-4011-a545-7d10759c9aa2",
   "metadata": {},
   "source": [
    "Here we get the vectors into a `pd.DataFrame`"
   ]
  },
  {
   "cell_type": "code",
   "execution_count": 8,
   "id": "e0d112e1-94cf-4ab0-9640-6c8f61e404fe",
   "metadata": {},
   "outputs": [],
   "source": [
    "vectors = gds.run_cypher(\"\"\"\n",
    "MATCH (m:Movie)\n",
    "RETURN m.title as movie, m.embedding as embedding\"\"\")"
   ]
  },
  {
   "cell_type": "code",
   "execution_count": 9,
   "id": "7c538b34-0750-4448-be3b-fcd3ccfdb376",
   "metadata": {},
   "outputs": [
    {
     "data": {
      "text/html": [
       "<div>\n",
       "<style scoped>\n",
       "    .dataframe tbody tr th:only-of-type {\n",
       "        vertical-align: middle;\n",
       "    }\n",
       "\n",
       "    .dataframe tbody tr th {\n",
       "        vertical-align: top;\n",
       "    }\n",
       "\n",
       "    .dataframe thead th {\n",
       "        text-align: right;\n",
       "    }\n",
       "</style>\n",
       "<table border=\"1\" class=\"dataframe\">\n",
       "  <thead>\n",
       "    <tr style=\"text-align: right;\">\n",
       "      <th></th>\n",
       "      <th>movie</th>\n",
       "      <th>embedding</th>\n",
       "    </tr>\n",
       "  </thead>\n",
       "  <tbody>\n",
       "    <tr>\n",
       "      <th>0</th>\n",
       "      <td>Toy Story (1995)</td>\n",
       "      <td>[0.39723098278045654, -0.5194790363311768, 0.3...</td>\n",
       "    </tr>\n",
       "    <tr>\n",
       "      <th>1</th>\n",
       "      <td>Jumanji (1995)</td>\n",
       "      <td>[0.3533506989479065, -0.6616520285606384, 0.29...</td>\n",
       "    </tr>\n",
       "    <tr>\n",
       "      <th>2</th>\n",
       "      <td>Grumpier Old Men (1995)</td>\n",
       "      <td>[0.1305207908153534, -0.5875227451324463, 0.28...</td>\n",
       "    </tr>\n",
       "    <tr>\n",
       "      <th>3</th>\n",
       "      <td>Waiting to Exhale (1995)</td>\n",
       "      <td>[0.470040887594223, -0.3561713695526123, 0.127...</td>\n",
       "    </tr>\n",
       "    <tr>\n",
       "      <th>4</th>\n",
       "      <td>Father of the Bride Part II (1995)</td>\n",
       "      <td>[0.17649927735328674, -0.4792723059654236, 0.5...</td>\n",
       "    </tr>\n",
       "    <tr>\n",
       "      <th>5</th>\n",
       "      <td>Heat (1995)</td>\n",
       "      <td>[0.37821003794670105, -0.4955470860004425, 0.3...</td>\n",
       "    </tr>\n",
       "    <tr>\n",
       "      <th>6</th>\n",
       "      <td>Sabrina (1995)</td>\n",
       "      <td>[0.33683887124061584, -0.4300536811351776, 0.3...</td>\n",
       "    </tr>\n",
       "    <tr>\n",
       "      <th>7</th>\n",
       "      <td>Tom and Huck (1995)</td>\n",
       "      <td>[0.1818910837173462, -0.3456726372241974, 0.26...</td>\n",
       "    </tr>\n",
       "    <tr>\n",
       "      <th>8</th>\n",
       "      <td>Sudden Death (1995)</td>\n",
       "      <td>[-0.07396924495697021, -0.41880151629447937, 0...</td>\n",
       "    </tr>\n",
       "    <tr>\n",
       "      <th>9</th>\n",
       "      <td>GoldenEye (1995)</td>\n",
       "      <td>[0.1819116771221161, -0.6005917191505432, 0.38...</td>\n",
       "    </tr>\n",
       "  </tbody>\n",
       "</table>\n",
       "</div>"
      ],
      "text/plain": [
       "                                movie  \\\n",
       "0                    Toy Story (1995)   \n",
       "1                      Jumanji (1995)   \n",
       "2             Grumpier Old Men (1995)   \n",
       "3            Waiting to Exhale (1995)   \n",
       "4  Father of the Bride Part II (1995)   \n",
       "5                         Heat (1995)   \n",
       "6                      Sabrina (1995)   \n",
       "7                 Tom and Huck (1995)   \n",
       "8                 Sudden Death (1995)   \n",
       "9                    GoldenEye (1995)   \n",
       "\n",
       "                                           embedding  \n",
       "0  [0.39723098278045654, -0.5194790363311768, 0.3...  \n",
       "1  [0.3533506989479065, -0.6616520285606384, 0.29...  \n",
       "2  [0.1305207908153534, -0.5875227451324463, 0.28...  \n",
       "3  [0.470040887594223, -0.3561713695526123, 0.127...  \n",
       "4  [0.17649927735328674, -0.4792723059654236, 0.5...  \n",
       "5  [0.37821003794670105, -0.4955470860004425, 0.3...  \n",
       "6  [0.33683887124061584, -0.4300536811351776, 0.3...  \n",
       "7  [0.1818910837173462, -0.3456726372241974, 0.26...  \n",
       "8  [-0.07396924495697021, -0.41880151629447937, 0...  \n",
       "9  [0.1819116771221161, -0.6005917191505432, 0.38...  "
      ]
     },
     "execution_count": 9,
     "metadata": {},
     "output_type": "execute_result"
    }
   ],
   "source": [
    "vectors.head(10)"
   ]
  },
  {
   "cell_type": "markdown",
   "id": "dbfea696-399b-4a51-8030-6a2820c631ee",
   "metadata": {},
   "source": [
    "### Recommending movies (Finally ;) "
   ]
  },
  {
   "cell_type": "markdown",
   "id": "177e4557-3f1e-40d6-8be6-36a34e99b117",
   "metadata": {},
   "source": [
    "Here we'll try to find the most similar movies to Toy Story"
   ]
  },
  {
   "cell_type": "markdown",
   "id": "e9c09b99-31c9-4599-a7aa-0ecde830c766",
   "metadata": {},
   "source": [
    "First we compute an embedding matrix, we just put all the embedding vectors in a big matrix of size $n_{movies} * dim(embedding)$"
   ]
  },
  {
   "cell_type": "code",
   "execution_count": 11,
   "id": "07774c04-2b10-4b3d-8619-f2e3585e20dc",
   "metadata": {},
   "outputs": [],
   "source": [
    "embedding_matrix = np.array(vectors[\"embedding\"].tolist()) "
   ]
  },
  {
   "cell_type": "code",
   "execution_count": 12,
   "id": "774939ae-abb5-4136-a39b-5e51183dc554",
   "metadata": {},
   "outputs": [
    {
     "data": {
      "text/plain": [
       "array([[ 0.39723098, -0.51947904,  0.34273216, -0.1783711 , -0.01867387,\n",
       "        -0.01733829,  0.3574723 ,  0.26418304, -0.87213004, -0.80410951]])"
      ]
     },
     "execution_count": 12,
     "metadata": {},
     "output_type": "execute_result"
    }
   ],
   "source": [
    "embedding_matrix[:1]"
   ]
  },
  {
   "cell_type": "code",
   "execution_count": 13,
   "id": "8fa78c08-cb9f-4040-8023-f5544356c776",
   "metadata": {},
   "outputs": [],
   "source": [
    "toy_story_embedding = embedding_matrix[0]"
   ]
  },
  {
   "cell_type": "markdown",
   "id": "0a329e6e-770d-4160-83dd-d480b1663f31",
   "metadata": {},
   "source": [
    "Now we compute the cos similarity of the Toy Story vector with the other vectors $\\cos ({\\bf u},{\\bf v})= {{\\bf u} {\\bf v} \\over \\|{\\bf u}\\| \\|{\\bf v}\\|}$"
   ]
  },
  {
   "cell_type": "code",
   "execution_count": 14,
   "id": "a086fe51-eb16-49d9-a9c4-6030d6367309",
   "metadata": {},
   "outputs": [],
   "source": [
    "cos_similarites = np.array([np.dot(toy_story_embedding, movie_embedding)/((norm(toy_story_embedding)*norm(movie_embedding))+0.0000000000001) \n",
    "                   for movie_embedding in embedding_matrix])"
   ]
  },
  {
   "cell_type": "markdown",
   "id": "1dac7056-9046-4ea6-8211-938061a0b046",
   "metadata": {},
   "source": [
    "We order them in decreasing order, and we only keep the 10 most similar vectors"
   ]
  },
  {
   "cell_type": "code",
   "execution_count": 16,
   "id": "71671f03-d83e-4482-978b-d04b22d926e9",
   "metadata": {},
   "outputs": [],
   "source": [
    "most_similar = np.argsort(-cos_similarites)[:10]"
   ]
  },
  {
   "cell_type": "code",
   "execution_count": 17,
   "id": "1e70b1b9-2a6b-4011-964d-9bd9eddd6fbd",
   "metadata": {},
   "outputs": [
    {
     "data": {
      "text/html": [
       "<div>\n",
       "<style scoped>\n",
       "    .dataframe tbody tr th:only-of-type {\n",
       "        vertical-align: middle;\n",
       "    }\n",
       "\n",
       "    .dataframe tbody tr th {\n",
       "        vertical-align: top;\n",
       "    }\n",
       "\n",
       "    .dataframe thead th {\n",
       "        text-align: right;\n",
       "    }\n",
       "</style>\n",
       "<table border=\"1\" class=\"dataframe\">\n",
       "  <thead>\n",
       "    <tr style=\"text-align: right;\">\n",
       "      <th></th>\n",
       "      <th>movie</th>\n",
       "      <th>embedding</th>\n",
       "    </tr>\n",
       "  </thead>\n",
       "  <tbody>\n",
       "    <tr>\n",
       "      <th>0</th>\n",
       "      <td>Toy Story (1995)</td>\n",
       "      <td>[0.39723098278045654, -0.5194790363311768, 0.3...</td>\n",
       "    </tr>\n",
       "    <tr>\n",
       "      <th>322</th>\n",
       "      <td>Lion King, The (1994)</td>\n",
       "      <td>[0.3312600553035736, -0.6245747804641724, 0.33...</td>\n",
       "    </tr>\n",
       "    <tr>\n",
       "      <th>615</th>\n",
       "      <td>Independence Day (a.k.a. ID4) (1996)</td>\n",
       "      <td>[0.3732811510562897, -0.5146379470825195, 0.31...</td>\n",
       "    </tr>\n",
       "    <tr>\n",
       "      <th>512</th>\n",
       "      <td>Beauty and the Beast (1991)</td>\n",
       "      <td>[0.319600373506546, -0.6198705434799194, 0.335...</td>\n",
       "    </tr>\n",
       "    <tr>\n",
       "      <th>4208</th>\n",
       "      <td>Last Unicorn, The (1982)</td>\n",
       "      <td>[0.26970577239990234, -0.46319907903671265, 0....</td>\n",
       "    </tr>\n",
       "    <tr>\n",
       "      <th>43</th>\n",
       "      <td>Seven (a.k.a. Se7en) (1995)</td>\n",
       "      <td>[0.3310205042362213, -0.5267654061317444, 0.27...</td>\n",
       "    </tr>\n",
       "    <tr>\n",
       "      <th>618</th>\n",
       "      <td>Hunchback of Notre Dame, The (1996)</td>\n",
       "      <td>[0.3476608991622925, -0.58438640832901, 0.4309...</td>\n",
       "    </tr>\n",
       "    <tr>\n",
       "      <th>18</th>\n",
       "      <td>Ace Ventura: When Nature Calls (1995)</td>\n",
       "      <td>[0.23379650712013245, -0.628512442111969, 0.34...</td>\n",
       "    </tr>\n",
       "    <tr>\n",
       "      <th>506</th>\n",
       "      <td>Aladdin (1992)</td>\n",
       "      <td>[0.30380168557167053, -0.5830289125442505, 0.3...</td>\n",
       "    </tr>\n",
       "    <tr>\n",
       "      <th>546</th>\n",
       "      <td>Mission: Impossible (1996)</td>\n",
       "      <td>[0.34676864743232727, -0.49239689111709595, 0....</td>\n",
       "    </tr>\n",
       "  </tbody>\n",
       "</table>\n",
       "</div>"
      ],
      "text/plain": [
       "                                      movie  \\\n",
       "0                          Toy Story (1995)   \n",
       "322                   Lion King, The (1994)   \n",
       "615    Independence Day (a.k.a. ID4) (1996)   \n",
       "512             Beauty and the Beast (1991)   \n",
       "4208               Last Unicorn, The (1982)   \n",
       "43              Seven (a.k.a. Se7en) (1995)   \n",
       "618     Hunchback of Notre Dame, The (1996)   \n",
       "18    Ace Ventura: When Nature Calls (1995)   \n",
       "506                          Aladdin (1992)   \n",
       "546              Mission: Impossible (1996)   \n",
       "\n",
       "                                              embedding  \n",
       "0     [0.39723098278045654, -0.5194790363311768, 0.3...  \n",
       "322   [0.3312600553035736, -0.6245747804641724, 0.33...  \n",
       "615   [0.3732811510562897, -0.5146379470825195, 0.31...  \n",
       "512   [0.319600373506546, -0.6198705434799194, 0.335...  \n",
       "4208  [0.26970577239990234, -0.46319907903671265, 0....  \n",
       "43    [0.3310205042362213, -0.5267654061317444, 0.27...  \n",
       "618   [0.3476608991622925, -0.58438640832901, 0.4309...  \n",
       "18    [0.23379650712013245, -0.628512442111969, 0.34...  \n",
       "506   [0.30380168557167053, -0.5830289125442505, 0.3...  \n",
       "546   [0.34676864743232727, -0.49239689111709595, 0....  "
      ]
     },
     "execution_count": 17,
     "metadata": {},
     "output_type": "execute_result"
    }
   ],
   "source": [
    "vectors.iloc[most_similar]"
   ]
  },
  {
   "cell_type": "markdown",
   "id": "5985d1ca-2416-464c-a71f-9d773bdaa306",
   "metadata": {},
   "source": [
    "Conclusion : As we can see, it seems to work pretty good given that it is a very simple model. We can see that the closest movie of Toy Story would be The Lion King, it's a good thing. Nonetheless, there are some movies that have no similarity to Toy Story that are there (ID4 for example)"
   ]
  },
  {
   "cell_type": "code",
   "execution_count": 16,
   "id": "50a028f2-bfea-4c22-bada-cfb303c931ba",
   "metadata": {},
   "outputs": [
    {
     "data": {
      "text/plain": [
       "graphName                                                      ratings\n",
       "database                                                         neo4j\n",
       "memoryUsage                                                           \n",
       "sizeInBytes                                                         -1\n",
       "nodeCount                                                        10352\n",
       "relationshipCount                                               201672\n",
       "configuration        {'relationshipProjection': {'RATED': {'orienta...\n",
       "density                                                       0.001882\n",
       "creationTime                       2023-01-16T22:01:09.903689000+01:00\n",
       "modificationTime                   2023-01-16T22:01:10.059144000+01:00\n",
       "schema               {'graphProperties': {}, 'relationships': {'RAT...\n",
       "Name: 0, dtype: object"
      ]
     },
     "execution_count": 16,
     "metadata": {},
     "output_type": "execute_result"
    }
   ],
   "source": [
    "G.drop()"
   ]
  }
 ],
 "metadata": {
  "kernelspec": {
   "display_name": "Python 3 (ipykernel)",
   "language": "python",
   "name": "python3"
  },
  "language_info": {
   "codemirror_mode": {
    "name": "ipython",
    "version": 3
   },
   "file_extension": ".py",
   "mimetype": "text/x-python",
   "name": "python",
   "nbconvert_exporter": "python",
   "pygments_lexer": "ipython3",
   "version": "3.9.13"
  }
 },
 "nbformat": 4,
 "nbformat_minor": 5
}
