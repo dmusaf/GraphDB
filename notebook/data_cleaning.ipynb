{
 "cells": [
  {
   "cell_type": "markdown",
   "metadata": {},
   "source": [
    "# Data verification and cleaning"
   ]
  },
  {
   "cell_type": "code",
   "execution_count": 18,
   "metadata": {},
   "outputs": [],
   "source": [
    "import pandas as pd\n",
    "import requests, io\n",
    "from pathlib import Path\n",
    "\n",
    "import os\n",
    "import sys"
   ]
  },
  {
   "cell_type": "code",
   "execution_count": 10,
   "metadata": {},
   "outputs": [],
   "source": [
    "data_location_rides = \"~/Downloads/archive/cab_rides.csv\"\n",
    "data_location_weather = \"~/Downloads/archive/weather.csv\"\n",
    "df_rides = pd.read_csv(data_location_rides)\n",
    "df_weather = pd.read_csv(data_location_weather)"
   ]
  },
  {
   "cell_type": "code",
   "execution_count": 15,
   "metadata": {},
   "outputs": [
    {
     "data": {
      "text/plain": [
       "Financial District         58851\n",
       "Theatre District           57798\n",
       "Back Bay                   57780\n",
       "Haymarket Square           57764\n",
       "Boston University          57764\n",
       "Fenway                     57757\n",
       "North End                  57756\n",
       "Northeastern University    57755\n",
       "South Station              57749\n",
       "West End                   57575\n",
       "Beacon Hill                57403\n",
       "North Station              57119\n",
       "Name: destination, dtype: int64"
      ]
     },
     "execution_count": 15,
     "metadata": {},
     "output_type": "execute_result"
    }
   ],
   "source": [
    "df_rides[\"destination\"].value_counts()"
   ]
  },
  {
   "cell_type": "code",
   "execution_count": 25,
   "metadata": {},
   "outputs": [],
   "source": [
    "def loadCSVData(path, year, month, service):\n",
    "    p = Path(path)\n",
    "    if not p.exists():\n",
    "        url = f\"https://s3.amazonaws.com/nyc-tlc/trip+data/{service}_tripdata_{year}-{month}.csv\"\n",
    "        print(url)\n",
    "        r = requests.get(url)\n",
    "        with open(path, \"wb\") as fd:\n",
    "            fd.write(r.content)"
   ]
  },
  {
   "cell_type": "code",
   "execution_count": 27,
   "metadata": {},
   "outputs": [
    {
     "name": "stdout",
     "output_type": "stream",
     "text": [
      "https://s3.amazonaws.com/nyc-tlc/trip+data/yellow_tripdata_2016-01.csv\n"
     ]
    }
   ],
   "source": [
    "loadCSVData(\"./yellow15-01.csv\", \"2016\", \"01\", \"yellow\")"
   ]
  },
  {
   "cell_type": "code",
   "execution_count": 23,
   "metadata": {},
   "outputs": [],
   "source": [
    "df = pd.read_csv(\"./yellow15-01.csv\")"
   ]
  }
 ],
 "metadata": {
  "kernelspec": {
   "display_name": "Python 3",
   "language": "python",
   "name": "python3"
  },
  "language_info": {
   "codemirror_mode": {
    "name": "ipython",
    "version": 3
   },
   "file_extension": ".py",
   "mimetype": "text/x-python",
   "name": "python",
   "nbconvert_exporter": "python",
   "pygments_lexer": "ipython3",
   "version": "3.8.5"
  }
 },
 "nbformat": 4,
 "nbformat_minor": 4
}
