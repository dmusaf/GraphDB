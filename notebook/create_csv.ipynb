{
 "cells": [
  {
   "cell_type": "markdown",
   "metadata": {},
   "source": [
    "# Importing data"
   ]
  },
  {
   "cell_type": "code",
   "execution_count": 1,
   "metadata": {},
   "outputs": [],
   "source": [
    "import requests as r\n",
    "import json\n",
    "import pandas as pd\n",
    "from many_requests import ManyRequests\n",
    "import numpy as np\n",
    "import csv"
   ]
  },
  {
   "cell_type": "code",
   "execution_count": 2,
   "metadata": {},
   "outputs": [],
   "source": [
    "# Files to be imported\n",
    "path_links = \"./links.csv\"\n",
    "path_imdb_movies = \"./movie_ids.json\"\n",
    "path_ratings = \"./ratings.csv\"\n",
    "\n",
    "# Files to be created\n",
    "path_relevant_ratings = \"./relevant_ratings_comp.csv\"\n",
    "path_movies = \"./movies.csv\"\n",
    "path_crew_cast = \"./crew_cast.csv\"\n",
    "\n",
    "NMOVIES = 50000\n",
    "\n",
    "API_KEY = \"341aa223bceaf3285598e2a6511bcd4b\""
   ]
  },
  {
   "cell_type": "markdown",
   "metadata": {},
   "source": [
    "## Importing movies and movie IDs"
   ]
  },
  {
   "cell_type": "markdown",
   "metadata": {},
   "source": [
    "### Movies"
   ]
  },
  {
   "cell_type": "code",
   "execution_count": 3,
   "metadata": {},
   "outputs": [
    {
     "data": {
      "text/html": [
       "<div>\n",
       "<style scoped>\n",
       "    .dataframe tbody tr th:only-of-type {\n",
       "        vertical-align: middle;\n",
       "    }\n",
       "\n",
       "    .dataframe tbody tr th {\n",
       "        vertical-align: top;\n",
       "    }\n",
       "\n",
       "    .dataframe thead th {\n",
       "        text-align: right;\n",
       "    }\n",
       "</style>\n",
       "<table border=\"1\" class=\"dataframe\">\n",
       "  <thead>\n",
       "    <tr style=\"text-align: right;\">\n",
       "      <th></th>\n",
       "      <th>adult</th>\n",
       "      <th>tmdb_id</th>\n",
       "      <th>original_title</th>\n",
       "      <th>popularity</th>\n",
       "      <th>video</th>\n",
       "    </tr>\n",
       "  </thead>\n",
       "  <tbody>\n",
       "    <tr>\n",
       "      <th>0</th>\n",
       "      <td>False</td>\n",
       "      <td>3924</td>\n",
       "      <td>Blondie</td>\n",
       "      <td>2.425</td>\n",
       "      <td>False</td>\n",
       "    </tr>\n",
       "    <tr>\n",
       "      <th>1</th>\n",
       "      <td>False</td>\n",
       "      <td>6124</td>\n",
       "      <td>Der Mann ohne Namen</td>\n",
       "      <td>0.961</td>\n",
       "      <td>False</td>\n",
       "    </tr>\n",
       "    <tr>\n",
       "      <th>2</th>\n",
       "      <td>False</td>\n",
       "      <td>8773</td>\n",
       "      <td>L'Amour à vingt ans</td>\n",
       "      <td>2.746</td>\n",
       "      <td>False</td>\n",
       "    </tr>\n",
       "    <tr>\n",
       "      <th>3</th>\n",
       "      <td>False</td>\n",
       "      <td>25449</td>\n",
       "      <td>New World Disorder 9: Never Enough</td>\n",
       "      <td>1.562</td>\n",
       "      <td>False</td>\n",
       "    </tr>\n",
       "    <tr>\n",
       "      <th>4</th>\n",
       "      <td>False</td>\n",
       "      <td>31975</td>\n",
       "      <td>Sesame Street: Elmo Loves You!</td>\n",
       "      <td>1.400</td>\n",
       "      <td>True</td>\n",
       "    </tr>\n",
       "  </tbody>\n",
       "</table>\n",
       "</div>"
      ],
      "text/plain": [
       "   adult  tmdb_id                      original_title  popularity  video\n",
       "0  False     3924                             Blondie       2.425  False\n",
       "1  False     6124                 Der Mann ohne Namen       0.961  False\n",
       "2  False     8773                 L'Amour à vingt ans       2.746  False\n",
       "3  False    25449  New World Disorder 9: Never Enough       1.562  False\n",
       "4  False    31975      Sesame Street: Elmo Loves You!       1.400   True"
      ]
     },
     "execution_count": 3,
     "metadata": {},
     "output_type": "execute_result"
    }
   ],
   "source": [
    "df_movies = pd.read_json(path_imdb_movies, lines = True)\n",
    "df_movies.rename(columns = {\"id\":\"tmdb_id\"}, inplace = True)\n",
    "df_movies.head()"
   ]
  },
  {
   "cell_type": "markdown",
   "metadata": {},
   "source": [
    "### Movie IDs"
   ]
  },
  {
   "cell_type": "code",
   "execution_count": 4,
   "metadata": {},
   "outputs": [
    {
     "data": {
      "text/html": [
       "<div>\n",
       "<style scoped>\n",
       "    .dataframe tbody tr th:only-of-type {\n",
       "        vertical-align: middle;\n",
       "    }\n",
       "\n",
       "    .dataframe tbody tr th {\n",
       "        vertical-align: top;\n",
       "    }\n",
       "\n",
       "    .dataframe thead th {\n",
       "        text-align: right;\n",
       "    }\n",
       "</style>\n",
       "<table border=\"1\" class=\"dataframe\">\n",
       "  <thead>\n",
       "    <tr style=\"text-align: right;\">\n",
       "      <th></th>\n",
       "      <th>movieId</th>\n",
       "      <th>imdbId</th>\n",
       "      <th>tmdbId</th>\n",
       "    </tr>\n",
       "  </thead>\n",
       "  <tbody>\n",
       "    <tr>\n",
       "      <th>0</th>\n",
       "      <td>1</td>\n",
       "      <td>114709</td>\n",
       "      <td>862.0</td>\n",
       "    </tr>\n",
       "    <tr>\n",
       "      <th>1</th>\n",
       "      <td>2</td>\n",
       "      <td>113497</td>\n",
       "      <td>8844.0</td>\n",
       "    </tr>\n",
       "    <tr>\n",
       "      <th>2</th>\n",
       "      <td>3</td>\n",
       "      <td>113228</td>\n",
       "      <td>15602.0</td>\n",
       "    </tr>\n",
       "    <tr>\n",
       "      <th>3</th>\n",
       "      <td>4</td>\n",
       "      <td>114885</td>\n",
       "      <td>31357.0</td>\n",
       "    </tr>\n",
       "    <tr>\n",
       "      <th>4</th>\n",
       "      <td>5</td>\n",
       "      <td>113041</td>\n",
       "      <td>11862.0</td>\n",
       "    </tr>\n",
       "  </tbody>\n",
       "</table>\n",
       "</div>"
      ],
      "text/plain": [
       "   movieId  imdbId   tmdbId\n",
       "0        1  114709    862.0\n",
       "1        2  113497   8844.0\n",
       "2        3  113228  15602.0\n",
       "3        4  114885  31357.0\n",
       "4        5  113041  11862.0"
      ]
     },
     "execution_count": 4,
     "metadata": {},
     "output_type": "execute_result"
    }
   ],
   "source": [
    "df_links = pd.read_csv(\"./links.csv\")\n",
    "df_links.head()"
   ]
  },
  {
   "cell_type": "code",
   "execution_count": 5,
   "metadata": {},
   "outputs": [
    {
     "data": {
      "text/html": [
       "<div>\n",
       "<style scoped>\n",
       "    .dataframe tbody tr th:only-of-type {\n",
       "        vertical-align: middle;\n",
       "    }\n",
       "\n",
       "    .dataframe tbody tr th {\n",
       "        vertical-align: top;\n",
       "    }\n",
       "\n",
       "    .dataframe thead th {\n",
       "        text-align: right;\n",
       "    }\n",
       "</style>\n",
       "<table border=\"1\" class=\"dataframe\">\n",
       "  <thead>\n",
       "    <tr style=\"text-align: right;\">\n",
       "      <th></th>\n",
       "      <th>movieId</th>\n",
       "      <th>imdbId</th>\n",
       "      <th>tmdbId</th>\n",
       "    </tr>\n",
       "  </thead>\n",
       "  <tbody>\n",
       "    <tr>\n",
       "      <th>0</th>\n",
       "      <td>1</td>\n",
       "      <td>114709</td>\n",
       "      <td>862</td>\n",
       "    </tr>\n",
       "    <tr>\n",
       "      <th>1</th>\n",
       "      <td>2</td>\n",
       "      <td>113497</td>\n",
       "      <td>8844</td>\n",
       "    </tr>\n",
       "    <tr>\n",
       "      <th>2</th>\n",
       "      <td>3</td>\n",
       "      <td>113228</td>\n",
       "      <td>15602</td>\n",
       "    </tr>\n",
       "    <tr>\n",
       "      <th>3</th>\n",
       "      <td>4</td>\n",
       "      <td>114885</td>\n",
       "      <td>31357</td>\n",
       "    </tr>\n",
       "    <tr>\n",
       "      <th>4</th>\n",
       "      <td>5</td>\n",
       "      <td>113041</td>\n",
       "      <td>11862</td>\n",
       "    </tr>\n",
       "  </tbody>\n",
       "</table>\n",
       "</div>"
      ],
      "text/plain": [
       "   movieId  imdbId  tmdbId\n",
       "0        1  114709     862\n",
       "1        2  113497    8844\n",
       "2        3  113228   15602\n",
       "3        4  114885   31357\n",
       "4        5  113041   11862"
      ]
     },
     "execution_count": 5,
     "metadata": {},
     "output_type": "execute_result"
    }
   ],
   "source": [
    "# Cleaning Null and duplicates values, switching tmdbId to integer\n",
    "df_links = df_links.dropna()\n",
    "df_links[\"tmdbId\"] = df_links[\"tmdbId\"].astype(int)\n",
    "df_links.drop_duplicates(subset = [\"tmdbId\"], inplace = True)\n",
    "df_links.head()"
   ]
  },
  {
   "cell_type": "code",
   "execution_count": 6,
   "metadata": {},
   "outputs": [
    {
     "data": {
      "text/html": [
       "<div>\n",
       "<style scoped>\n",
       "    .dataframe tbody tr th:only-of-type {\n",
       "        vertical-align: middle;\n",
       "    }\n",
       "\n",
       "    .dataframe tbody tr th {\n",
       "        vertical-align: top;\n",
       "    }\n",
       "\n",
       "    .dataframe thead th {\n",
       "        text-align: right;\n",
       "    }\n",
       "</style>\n",
       "<table border=\"1\" class=\"dataframe\">\n",
       "  <thead>\n",
       "    <tr style=\"text-align: right;\">\n",
       "      <th></th>\n",
       "      <th>movieId</th>\n",
       "      <th>imdbId</th>\n",
       "      <th>tmdbId</th>\n",
       "    </tr>\n",
       "  </thead>\n",
       "  <tbody>\n",
       "    <tr>\n",
       "      <th>0</th>\n",
       "      <td>1</td>\n",
       "      <td>114709</td>\n",
       "      <td>862</td>\n",
       "    </tr>\n",
       "    <tr>\n",
       "      <th>1</th>\n",
       "      <td>2</td>\n",
       "      <td>113497</td>\n",
       "      <td>8844</td>\n",
       "    </tr>\n",
       "    <tr>\n",
       "      <th>2</th>\n",
       "      <td>3</td>\n",
       "      <td>113228</td>\n",
       "      <td>15602</td>\n",
       "    </tr>\n",
       "    <tr>\n",
       "      <th>3</th>\n",
       "      <td>4</td>\n",
       "      <td>114885</td>\n",
       "      <td>31357</td>\n",
       "    </tr>\n",
       "    <tr>\n",
       "      <th>4</th>\n",
       "      <td>5</td>\n",
       "      <td>113041</td>\n",
       "      <td>11862</td>\n",
       "    </tr>\n",
       "  </tbody>\n",
       "</table>\n",
       "</div>"
      ],
      "text/plain": [
       "   movieId  imdbId  tmdbId\n",
       "0        1  114709     862\n",
       "1        2  113497    8844\n",
       "2        3  113228   15602\n",
       "3        4  114885   31357\n",
       "4        5  113041   11862"
      ]
     },
     "execution_count": 6,
     "metadata": {},
     "output_type": "execute_result"
    }
   ],
   "source": [
    "df_valid_links = df_links[df_links[\"tmdbId\"].isin(df_movies[\"tmdb_id\"])]\n",
    "df_valid_links.head()"
   ]
  },
  {
   "cell_type": "code",
   "execution_count": 7,
   "metadata": {},
   "outputs": [],
   "source": [
    "tmdb_ids = df_valid_links[\"tmdbId\"].head(NMOVIES).to_numpy()\n",
    "movie_ids = df_valid_links[\"movieId\"].head(NMOVIES).to_numpy()"
   ]
  },
  {
   "cell_type": "code",
   "execution_count": 8,
   "metadata": {},
   "outputs": [
    {
     "data": {
      "text/html": [
       "<div>\n",
       "<style scoped>\n",
       "    .dataframe tbody tr th:only-of-type {\n",
       "        vertical-align: middle;\n",
       "    }\n",
       "\n",
       "    .dataframe tbody tr th {\n",
       "        vertical-align: top;\n",
       "    }\n",
       "\n",
       "    .dataframe thead th {\n",
       "        text-align: right;\n",
       "    }\n",
       "</style>\n",
       "<table border=\"1\" class=\"dataframe\">\n",
       "  <thead>\n",
       "    <tr style=\"text-align: right;\">\n",
       "      <th></th>\n",
       "      <th>movieId</th>\n",
       "      <th>imdbId</th>\n",
       "      <th>tmdbId</th>\n",
       "    </tr>\n",
       "  </thead>\n",
       "  <tbody>\n",
       "    <tr>\n",
       "      <th>18775</th>\n",
       "      <td>92783</td>\n",
       "      <td>1541777</td>\n",
       "      <td>470358</td>\n",
       "    </tr>\n",
       "  </tbody>\n",
       "</table>\n",
       "</div>"
      ],
      "text/plain": [
       "       movieId   imdbId  tmdbId\n",
       "18775    92783  1541777  470358"
      ]
     },
     "execution_count": 8,
     "metadata": {},
     "output_type": "execute_result"
    }
   ],
   "source": [
    "df_valid_links[df_valid_links[\"tmdbId\"] == 470358]"
   ]
  },
  {
   "cell_type": "markdown",
   "metadata": {},
   "source": [
    "## Importing movie metadata, crew and cast, ratings"
   ]
  },
  {
   "cell_type": "markdown",
   "metadata": {},
   "source": [
    "### Metadata"
   ]
  },
  {
   "cell_type": "code",
   "execution_count": 9,
   "metadata": {},
   "outputs": [
    {
     "data": {
      "application/vnd.jupyter.widget-view+json": {
       "model_id": "c821e13dc8eb4bd6adf2e45e92e7e571",
       "version_major": 2,
       "version_minor": 0
      },
      "text/plain": [
       "  0%|          | 0/50000 [00:00<?, ?it/s]"
      ]
     },
     "metadata": {},
     "output_type": "display_data"
    },
    {
     "name": "stderr",
     "output_type": "stream",
     "text": [
      "C:\\Users\\david\\AppData\\Local\\Programs\\Python\\Python39\\lib\\site-packages\\anyio\\_backends\\_trio.py:126: TrioDeprecationWarning: trio.MultiError is deprecated since Trio 0.22.0; use BaseExceptionGroup (on Python 3.11 and later) or exceptiongroup.BaseExceptionGroup (earlier versions) instead (https://github.com/python-trio/trio/issues/2211)\n",
      "  class ExceptionGroup(BaseExceptionGroup, trio.MultiError):\n",
      "WARNING:root:FAILED Request {'method': 'GET', 'url': 'https://api.themoviedb.org/3/movie/470358?api_key=341aa223bceaf3285598e2a6511bcd4b&language=en-US'}: Permanently failed. Last error: Bad response status code: 404. Should be in (200,)\n"
     ]
    },
    {
     "name": "stdout",
     "output_type": "stream",
     "text": [
      "CPU times: total: 15min 46s\n",
      "Wall time: 21min 1s\n"
     ]
    }
   ],
   "source": [
    "%%time\n",
    "\n",
    "responses_metadata = ManyRequests(n_workers=50, n_connections=30, json=True)(\n",
    "    method='GET',\n",
    "    url=[f\"https://api.themoviedb.org/3/movie/{ID}?api_key={API_KEY}&language=en-US\" for ID in tmdb_ids])"
   ]
  },
  {
   "cell_type": "code",
   "execution_count": 11,
   "metadata": {},
   "outputs": [
    {
     "data": {
      "text/plain": [
       "{'adult': False,\n",
       " 'backdrop_path': '/3Rfvhy1Nl6sSGJwyjb0QiZzZYlB.jpg',\n",
       " 'belongs_to_collection': {'id': 10194,\n",
       "  'name': 'Toy Story Collection',\n",
       "  'poster_path': '/7G9915LfUQ2lVfwMEEhDsn3kT4B.jpg',\n",
       "  'backdrop_path': '/9FBwqcd9IRruEDUrTdcaafOMKUq.jpg'},\n",
       " 'budget': 30000000,\n",
       " 'genres': [{'id': 16, 'name': 'Animation'},\n",
       "  {'id': 12, 'name': 'Adventure'},\n",
       "  {'id': 10751, 'name': 'Family'},\n",
       "  {'id': 35, 'name': 'Comedy'}],\n",
       " 'homepage': 'http://toystory.disney.com/toy-story',\n",
       " 'id': 862,\n",
       " 'imdb_id': 'tt0114709',\n",
       " 'original_language': 'en',\n",
       " 'original_title': 'Toy Story',\n",
       " 'overview': \"Led by Woody, Andy's toys live happily in his room until Andy's birthday brings Buzz Lightyear onto the scene. Afraid of losing his place in Andy's heart, Woody plots against Buzz. But when circumstances separate Buzz and Woody from their owner, the duo eventually learns to put aside their differences.\",\n",
       " 'popularity': 113.301,\n",
       " 'poster_path': '/uXDfjJbdP4ijW5hWSBrPrlKpxab.jpg',\n",
       " 'production_companies': [{'id': 3,\n",
       "   'logo_path': '/1TjvGVDMYsj6JBxOAkUHpPEwLf7.png',\n",
       "   'name': 'Pixar',\n",
       "   'origin_country': 'US'}],\n",
       " 'production_countries': [{'iso_3166_1': 'US',\n",
       "   'name': 'United States of America'}],\n",
       " 'release_date': '1995-10-30',\n",
       " 'revenue': 373554033,\n",
       " 'runtime': 81,\n",
       " 'spoken_languages': [{'english_name': 'English',\n",
       "   'iso_639_1': 'en',\n",
       "   'name': 'English'}],\n",
       " 'status': 'Released',\n",
       " 'tagline': '',\n",
       " 'title': 'Toy Story',\n",
       " 'video': False,\n",
       " 'vote_average': 7.965,\n",
       " 'vote_count': 16204}"
      ]
     },
     "execution_count": 11,
     "metadata": {},
     "output_type": "execute_result"
    }
   ],
   "source": [
    "responses_metadata[0]"
   ]
  },
  {
   "cell_type": "code",
   "execution_count": 24,
   "metadata": {},
   "outputs": [],
   "source": [
    "responses_metadata[20273][\"release_date\"] = \"1995-10-30\"\n"
   ]
  },
  {
   "cell_type": "code",
   "execution_count": 35,
   "metadata": {},
   "outputs": [
    {
     "data": {
      "text/plain": [
       "{'adult': False,\n",
       " 'backdrop_path': '/3Rfvhy1Nl6sSGJwyjb0QiZzZYlB.jpg',\n",
       " 'belongs_to_collection': {'id': 10194,\n",
       "  'name': 'Toy Story Collection',\n",
       "  'poster_path': '/7G9915LfUQ2lVfwMEEhDsn3kT4B.jpg',\n",
       "  'backdrop_path': '/9FBwqcd9IRruEDUrTdcaafOMKUq.jpg'},\n",
       " 'budget': 30000000,\n",
       " 'genres': [{'id': 16, 'name': 'Animation'},\n",
       "  {'id': 12, 'name': 'Adventure'},\n",
       "  {'id': 10751, 'name': 'Family'},\n",
       "  {'id': 35, 'name': 'Comedy'}],\n",
       " 'homepage': 'http://toystory.disney.com/toy-story',\n",
       " 'id': 862,\n",
       " 'imdb_id': 'tt0114709',\n",
       " 'original_language': 'en',\n",
       " 'original_title': 'Toy Story',\n",
       " 'overview': \"Led by Woody, Andy's toys live happily in his room until Andy's birthday brings Buzz Lightyear onto the scene. Afraid of losing his place in Andy's heart, Woody plots against Buzz. But when circumstances separate Buzz and Woody from their owner, the duo eventually learns to put aside their differences.\",\n",
       " 'popularity': 113.301,\n",
       " 'poster_path': '/uXDfjJbdP4ijW5hWSBrPrlKpxab.jpg',\n",
       " 'production_companies': [{'id': 3,\n",
       "   'logo_path': '/1TjvGVDMYsj6JBxOAkUHpPEwLf7.png',\n",
       "   'name': 'Pixar',\n",
       "   'origin_country': 'US'}],\n",
       " 'production_countries': [{'iso_3166_1': 'US',\n",
       "   'name': 'United States of America'}],\n",
       " 'release_date': '1995-10-30',\n",
       " 'revenue': 373554033,\n",
       " 'runtime': 81,\n",
       " 'spoken_languages': [{'english_name': 'English',\n",
       "   'iso_639_1': 'en',\n",
       "   'name': 'English'}],\n",
       " 'status': 'Released',\n",
       " 'tagline': '',\n",
       " 'title': 'Toy Story',\n",
       " 'video': False,\n",
       " 'vote_average': 7.965,\n",
       " 'vote_count': 16204}"
      ]
     },
     "execution_count": 35,
     "metadata": {},
     "output_type": "execute_result"
    }
   ],
   "source": [
    "responses_metadata[0]\n",
    "\n",
    "    "
   ]
  },
  {
   "cell_type": "code",
   "execution_count": 19,
   "metadata": {},
   "outputs": [
    {
     "data": {
      "text/plain": [
       "1995"
      ]
     },
     "execution_count": 19,
     "metadata": {},
     "output_type": "execute_result"
    }
   ],
   "source": [
    "import datetime\n",
    "datetime.datetime.strptime('1995-10-30', \"%Y-%m-%d\").year"
   ]
  },
  {
   "cell_type": "code",
   "execution_count": 20,
   "metadata": {},
   "outputs": [
    {
     "data": {
      "text/plain": [
       "[{'id': 16, 'name': 'Animation'},\n",
       " {'id': 12, 'name': 'Adventure'},\n",
       " {'id': 10751, 'name': 'Family'},\n",
       " {'id': 35, 'name': 'Comedy'}]"
      ]
     },
     "execution_count": 20,
     "metadata": {},
     "output_type": "execute_result"
    }
   ],
   "source": [
    "responses_metadata[0][\"genres\"]"
   ]
  },
  {
   "cell_type": "code",
   "execution_count": 31,
   "metadata": {},
   "outputs": [],
   "source": [
    "movie_genres = [[responses_metadata[i][\"genres\"][j][\"name\"] for j in range(len(responses_metadata[i][\"genres\"]))]\n",
    "                for i in range(len(responses_metadata))]\n",
    "\n",
    "release_date = [responses_metadata[i][\"release_date\"] for i in range(len(responses_metadata))]\n",
    "\n",
    "titles = [responses_metadata[i][\"original_title\"] for i in range(len(responses_metadata))]\n",
    "\n",
    "popularities = [responses_metadata[i][\"popularity\"] for i in range(len(responses_metadata))]\n",
    "\n",
    "budget = [responses_metadata[i][\"budget\"] for i in range(len(responses_metadata))]\n",
    "\n",
    "revenue = [responses_metadata[i][\"revenue\"] for i in range(len(responses_metadata))]\n",
    "\n",
    "vote_average = [responses_metadata[i][\"vote_average\"] for i in range(len(responses_metadata))]\n",
    "\n",
    "vote_count = [responses_metadata[i][\"vote_count\"] for i in range(len(responses_metadata))]\n",
    "\n",
    "countries = [[responses_metadata[i][\"production_countries\"][j][\"iso_3166_1\"] for j in range(len(responses_metadata[i][\"production_countries\"]))]\n",
    "                for i in range(len(responses_metadata))]\n",
    "\n",
    "duration = [responses_metadata[i][\"runtime\"] for i in range(len(responses_metadata))]\n",
    "\n",
    "studios = [[responses_metadata[i][\"production_companies\"][j][\"name\"] for j in range(len(responses_metadata[i][\"production_companies\"]))]\n",
    "                for i in range(len(responses_metadata))]\n",
    "df_movies = pd.DataFrame()\n",
    "\n",
    "df_movies[\"tmdb_id\"] = tmdb_ids\n",
    "df_movies[\"movie_id\"] = movie_ids\n",
    "df_movies[\"popularity\"] = popularities\n",
    "df_movies[\"original_title\"] = titles\n",
    "df_movies[\"genres\"] = movie_genres\n",
    "df_movies[\"release_date\"] = release_date\n",
    "df_movies[\"budget\"] = budget\n",
    "df_movies[\"revenue\"] = revenue\n",
    "df_movies[\"country\"] = countries\n",
    "df_movies[\"duration\"] = duration\n",
    "df_movies[\"vote_count\"] = vote_count\n",
    "df_movies[\"vote_average\"] = vote_average\n"
   ]
  },
  {
   "cell_type": "code",
   "execution_count": 36,
   "metadata": {},
   "outputs": [],
   "source": [
    "list_countries = []\n",
    "set_countries = set()\n",
    "for response in responses_metadata:\n",
    "    for country in response[\"production_countries\"]:\n",
    "        if country[\"iso_3166_1\"] not in set_countries:\n",
    "            list_countries += [[country[\"iso_3166_1\"], country[\"name\"]]]\n",
    "            set_countries.add(country[\"iso_3166_1\"])"
   ]
  },
  {
   "cell_type": "code",
   "execution_count": 32,
   "metadata": {},
   "outputs": [
    {
     "data": {
      "text/html": [
       "<div>\n",
       "<style scoped>\n",
       "    .dataframe tbody tr th:only-of-type {\n",
       "        vertical-align: middle;\n",
       "    }\n",
       "\n",
       "    .dataframe tbody tr th {\n",
       "        vertical-align: top;\n",
       "    }\n",
       "\n",
       "    .dataframe thead th {\n",
       "        text-align: right;\n",
       "    }\n",
       "</style>\n",
       "<table border=\"1\" class=\"dataframe\">\n",
       "  <thead>\n",
       "    <tr style=\"text-align: right;\">\n",
       "      <th></th>\n",
       "      <th>tmdb_id</th>\n",
       "      <th>movie_id</th>\n",
       "      <th>popularity</th>\n",
       "      <th>original_title</th>\n",
       "      <th>genres</th>\n",
       "      <th>release_date</th>\n",
       "      <th>budget</th>\n",
       "      <th>revenue</th>\n",
       "      <th>country</th>\n",
       "      <th>duration</th>\n",
       "      <th>vote_count</th>\n",
       "      <th>vote_average</th>\n",
       "    </tr>\n",
       "  </thead>\n",
       "  <tbody>\n",
       "    <tr>\n",
       "      <th>0</th>\n",
       "      <td>862</td>\n",
       "      <td>1</td>\n",
       "      <td>113.301</td>\n",
       "      <td>Toy Story</td>\n",
       "      <td>[Animation, Adventure, Family, Comedy]</td>\n",
       "      <td>1995-10-30</td>\n",
       "      <td>30000000</td>\n",
       "      <td>373554033</td>\n",
       "      <td>[US]</td>\n",
       "      <td>81</td>\n",
       "      <td>16204</td>\n",
       "      <td>7.965</td>\n",
       "    </tr>\n",
       "    <tr>\n",
       "      <th>1</th>\n",
       "      <td>8844</td>\n",
       "      <td>2</td>\n",
       "      <td>20.077</td>\n",
       "      <td>Jumanji</td>\n",
       "      <td>[Adventure, Fantasy, Family]</td>\n",
       "      <td>1995-12-15</td>\n",
       "      <td>65000000</td>\n",
       "      <td>262821940</td>\n",
       "      <td>[US]</td>\n",
       "      <td>104</td>\n",
       "      <td>9367</td>\n",
       "      <td>7.235</td>\n",
       "    </tr>\n",
       "    <tr>\n",
       "      <th>2</th>\n",
       "      <td>15602</td>\n",
       "      <td>3</td>\n",
       "      <td>13.274</td>\n",
       "      <td>Grumpier Old Men</td>\n",
       "      <td>[Romance, Comedy]</td>\n",
       "      <td>1995-12-22</td>\n",
       "      <td>25000000</td>\n",
       "      <td>71500000</td>\n",
       "      <td>[US]</td>\n",
       "      <td>101</td>\n",
       "      <td>316</td>\n",
       "      <td>6.441</td>\n",
       "    </tr>\n",
       "    <tr>\n",
       "      <th>3</th>\n",
       "      <td>31357</td>\n",
       "      <td>4</td>\n",
       "      <td>10.773</td>\n",
       "      <td>Waiting to Exhale</td>\n",
       "      <td>[Comedy, Drama, Romance]</td>\n",
       "      <td>1995-12-22</td>\n",
       "      <td>16000000</td>\n",
       "      <td>81452156</td>\n",
       "      <td>[US]</td>\n",
       "      <td>127</td>\n",
       "      <td>128</td>\n",
       "      <td>6.300</td>\n",
       "    </tr>\n",
       "    <tr>\n",
       "      <th>4</th>\n",
       "      <td>11862</td>\n",
       "      <td>5</td>\n",
       "      <td>13.333</td>\n",
       "      <td>Father of the Bride Part II</td>\n",
       "      <td>[Comedy, Family]</td>\n",
       "      <td>1995-12-08</td>\n",
       "      <td>0</td>\n",
       "      <td>76594107</td>\n",
       "      <td>[US]</td>\n",
       "      <td>106</td>\n",
       "      <td>621</td>\n",
       "      <td>6.228</td>\n",
       "    </tr>\n",
       "  </tbody>\n",
       "</table>\n",
       "</div>"
      ],
      "text/plain": [
       "   tmdb_id  movie_id  popularity               original_title  \\\n",
       "0      862         1     113.301                    Toy Story   \n",
       "1     8844         2      20.077                      Jumanji   \n",
       "2    15602         3      13.274             Grumpier Old Men   \n",
       "3    31357         4      10.773            Waiting to Exhale   \n",
       "4    11862         5      13.333  Father of the Bride Part II   \n",
       "\n",
       "                                   genres release_date    budget    revenue  \\\n",
       "0  [Animation, Adventure, Family, Comedy]   1995-10-30  30000000  373554033   \n",
       "1            [Adventure, Fantasy, Family]   1995-12-15  65000000  262821940   \n",
       "2                       [Romance, Comedy]   1995-12-22  25000000   71500000   \n",
       "3                [Comedy, Drama, Romance]   1995-12-22  16000000   81452156   \n",
       "4                        [Comedy, Family]   1995-12-08         0   76594107   \n",
       "\n",
       "  country  duration  vote_count  vote_average  \n",
       "0    [US]        81       16204         7.965  \n",
       "1    [US]       104        9367         7.235  \n",
       "2    [US]       101         316         6.441  \n",
       "3    [US]       127         128         6.300  \n",
       "4    [US]       106         621         6.228  "
      ]
     },
     "execution_count": 32,
     "metadata": {},
     "output_type": "execute_result"
    }
   ],
   "source": [
    "df_movies.head()"
   ]
  },
  {
   "cell_type": "markdown",
   "metadata": {},
   "source": [
    "### Crew and cast"
   ]
  },
  {
   "cell_type": "code",
   "execution_count": 14,
   "metadata": {},
   "outputs": [
    {
     "data": {
      "application/vnd.jupyter.widget-view+json": {
       "model_id": "3d5f658ae5b443c0b345e33b2e63a755",
       "version_major": 2,
       "version_minor": 0
      },
      "text/plain": [
       "HBox(children=(HTML(value=''), FloatProgress(value=0.0, max=50000.0), HTML(value='')))"
      ]
     },
     "metadata": {},
     "output_type": "display_data"
    },
    {
     "name": "stdout",
     "output_type": "stream",
     "text": [
      "\n"
     ]
    },
    {
     "name": "stderr",
     "output_type": "stream",
     "text": [
      "WARNING:root:FAILED Request {'method': 'GET', 'url': 'https://api.themoviedb.org/3/movie/470358/credits?api_key=341aa223bceaf3285598e2a6511bcd4b&language=en-US'}: Permanently failed. Last error: Bad response status code: 404. Should be in (200,)\n"
     ]
    },
    {
     "name": "stdout",
     "output_type": "stream",
     "text": [
      "CPU times: user 6min 35s, sys: 25.7 s, total: 7min 1s\n",
      "Wall time: 12min 44s\n"
     ]
    }
   ],
   "source": [
    "%%time\n",
    "\n",
    "# index = 18565 problem -> no credits\n",
    "\n",
    "responses_crew_cast = ManyRequests(n_workers=30, n_connections=30, json=True)(\n",
    "        method='GET',\n",
    "        url=[f\"https://api.themoviedb.org/3/movie/{ID}/credits?api_key={API_KEY}&language=en-US\" \n",
    "         for ID in tmdb_ids])"
   ]
  },
  {
   "cell_type": "code",
   "execution_count": 62,
   "metadata": {},
   "outputs": [],
   "source": [
    "responses_crew_cast_copy = responses_crew_cast.copy()\n",
    "del responses_crew_cast[18565]"
   ]
  },
  {
   "cell_type": "code",
   "execution_count": 64,
   "metadata": {},
   "outputs": [
    {
     "name": "stdout",
     "output_type": "stream",
     "text": [
      "\n",
      "\n"
     ]
    }
   ],
   "source": [
    "keys = [\"id\", \"name\", \"original_name\", \"gender\", \"popularity\"]\n",
    "attendees = []\n",
    "for i in range(len(responses_crew_cast)):\n",
    "    for actor in responses_crew_cast[i][\"cast\"]:\n",
    "        attendee = {\"tmdb_movie_id\":responses_crew_cast[i][\"id\"], \"job\":\"Actor\"}\n",
    "        for key in keys:\n",
    "            attendee[key] = actor[key]\n",
    "        attendees.append(attendee)\n",
    "    for crew_member in responses_crew_cast[i][\"crew\"]:\n",
    "        if crew_member[\"job\"] != \"Director\":\n",
    "            continue\n",
    "        attendee = {\"tmdb_movie_id\":responses_crew_cast[i][\"id\"], \"job\":\"Director\"}\n",
    "        for key in keys:\n",
    "            attendee[key] = crew_member[key]\n",
    "        attendees.append(attendee)"
   ]
  },
  {
   "cell_type": "code",
   "execution_count": 65,
   "metadata": {},
   "outputs": [
    {
     "data": {
      "text/html": [
       "<div>\n",
       "<style scoped>\n",
       "    .dataframe tbody tr th:only-of-type {\n",
       "        vertical-align: middle;\n",
       "    }\n",
       "\n",
       "    .dataframe tbody tr th {\n",
       "        vertical-align: top;\n",
       "    }\n",
       "\n",
       "    .dataframe thead th {\n",
       "        text-align: right;\n",
       "    }\n",
       "</style>\n",
       "<table border=\"1\" class=\"dataframe\">\n",
       "  <thead>\n",
       "    <tr style=\"text-align: right;\">\n",
       "      <th></th>\n",
       "      <th>tmdb_movie_id</th>\n",
       "      <th>job</th>\n",
       "      <th>id</th>\n",
       "      <th>name</th>\n",
       "      <th>original_name</th>\n",
       "      <th>gender</th>\n",
       "      <th>popularity</th>\n",
       "    </tr>\n",
       "  </thead>\n",
       "  <tbody>\n",
       "    <tr>\n",
       "      <th>0</th>\n",
       "      <td>862</td>\n",
       "      <td>Actor</td>\n",
       "      <td>31</td>\n",
       "      <td>Tom Hanks</td>\n",
       "      <td>Tom Hanks</td>\n",
       "      <td>2</td>\n",
       "      <td>99.612</td>\n",
       "    </tr>\n",
       "    <tr>\n",
       "      <th>1</th>\n",
       "      <td>862</td>\n",
       "      <td>Actor</td>\n",
       "      <td>12898</td>\n",
       "      <td>Tim Allen</td>\n",
       "      <td>Tim Allen</td>\n",
       "      <td>2</td>\n",
       "      <td>27.736</td>\n",
       "    </tr>\n",
       "    <tr>\n",
       "      <th>2</th>\n",
       "      <td>862</td>\n",
       "      <td>Actor</td>\n",
       "      <td>7167</td>\n",
       "      <td>Don Rickles</td>\n",
       "      <td>Don Rickles</td>\n",
       "      <td>2</td>\n",
       "      <td>12.536</td>\n",
       "    </tr>\n",
       "    <tr>\n",
       "      <th>3</th>\n",
       "      <td>862</td>\n",
       "      <td>Actor</td>\n",
       "      <td>12899</td>\n",
       "      <td>Jim Varney</td>\n",
       "      <td>Jim Varney</td>\n",
       "      <td>2</td>\n",
       "      <td>15.309</td>\n",
       "    </tr>\n",
       "    <tr>\n",
       "      <th>4</th>\n",
       "      <td>862</td>\n",
       "      <td>Actor</td>\n",
       "      <td>12900</td>\n",
       "      <td>Wallace Shawn</td>\n",
       "      <td>Wallace Shawn</td>\n",
       "      <td>2</td>\n",
       "      <td>22.432</td>\n",
       "    </tr>\n",
       "  </tbody>\n",
       "</table>\n",
       "</div>"
      ],
      "text/plain": [
       "   tmdb_movie_id    job     id           name  original_name  gender  \\\n",
       "0            862  Actor     31      Tom Hanks      Tom Hanks       2   \n",
       "1            862  Actor  12898      Tim Allen      Tim Allen       2   \n",
       "2            862  Actor   7167    Don Rickles    Don Rickles       2   \n",
       "3            862  Actor  12899     Jim Varney     Jim Varney       2   \n",
       "4            862  Actor  12900  Wallace Shawn  Wallace Shawn       2   \n",
       "\n",
       "   popularity  \n",
       "0      99.612  \n",
       "1      27.736  \n",
       "2      12.536  \n",
       "3      15.309  \n",
       "4      22.432  "
      ]
     },
     "execution_count": 65,
     "metadata": {},
     "output_type": "execute_result"
    }
   ],
   "source": [
    "df_crew_cast = pd.DataFrame(attendees)\n",
    "df_crew_cast.head()"
   ]
  },
  {
   "cell_type": "markdown",
   "metadata": {},
   "source": [
    "### Ratings"
   ]
  },
  {
   "cell_type": "code",
   "execution_count": 17,
   "metadata": {},
   "outputs": [],
   "source": [
    "movie_ids_str = list(map(str, movie_ids))\n",
    "\n",
    "with open(path_ratings, 'r', encoding = \"utf8\") as inp, open(path_relevant_ratings, 'w') as out:\n",
    "    writer = csv.writer(out)\n",
    "    writer.writerow([\"user_id\", \"movie_id\", \"rating\"])\n",
    "    for row in csv.reader(inp):\n",
    "        if row[1] in movie_ids_str:\n",
    "            writer.writerow(row[:3])"
   ]
  },
  {
   "cell_type": "markdown",
   "metadata": {},
   "source": [
    "## To csv"
   ]
  },
  {
   "cell_type": "code",
   "execution_count": 34,
   "metadata": {},
   "outputs": [],
   "source": [
    "df_movies.to_csv(path_movies)\n",
    "df_crew_cast.to_csv(path_crew_cast)"
   ]
  },
  {
   "cell_type": "code",
   "execution_count": 39,
   "metadata": {},
   "outputs": [],
   "source": [
    "with open(\"countries.csv\", \"w\") as f:\n",
    "    csv_writer = csv.writer(f)\n",
    "    csv_writer.writerow([\"id\", \"name\"])\n",
    "    csv_writer.writerows(list_countries)"
   ]
  },
  {
   "cell_type": "markdown",
   "metadata": {},
   "source": [
    "## Checking data"
   ]
  },
  {
   "cell_type": "code",
   "execution_count": 3,
   "metadata": {},
   "outputs": [],
   "source": [
    "df_id_rel_ratings = pd.read_csv(\"./relevant_ratings.csv\", usecols=[1], squeeze=True, header = None)"
   ]
  },
  {
   "cell_type": "code",
   "execution_count": 5,
   "metadata": {},
   "outputs": [],
   "source": [
    "d = pd.DataFrame()\n",
    "d[\"id\"] = df_id_rel_ratings"
   ]
  },
  {
   "cell_type": "code",
   "execution_count": 131,
   "metadata": {},
   "outputs": [
    {
     "data": {
      "text/plain": [
       "True"
      ]
     },
     "execution_count": 131,
     "metadata": {},
     "output_type": "execute_result"
    }
   ],
   "source": [
    "# Checkin if all ids from ratings are in movie_ids\n",
    "len(d[d[\"id\"].isin(movie_ids)]) == len(d)"
   ]
  },
  {
   "cell_type": "code",
   "execution_count": 132,
   "metadata": {},
   "outputs": [
    {
     "data": {
      "text/plain": [
       "3580"
      ]
     },
     "execution_count": 132,
     "metadata": {},
     "output_type": "execute_result"
    }
   ],
   "source": [
    "d2 = pd.DataFrame()\n",
    "d2[\"id\"] = movie_ids\n",
    "\n",
    "ids_not_rated = d2[~d2[\"id\"].isin(d[\"id\"])]\n",
    "len(d3) # number of movies not rated"
   ]
  },
  {
   "cell_type": "markdown",
   "metadata": {},
   "source": [
    "## Spliting data"
   ]
  },
  {
   "cell_type": "code",
   "execution_count": 18,
   "metadata": {},
   "outputs": [],
   "source": [
    "with open(\"crew_cast.csv\", \"r\") as f, open(\"actors.csv\", \"w\", newline=\"\") as actors, open(\"links_cast.csv\", \"w\", newline=\"\") as links:\n",
    "    csv_reader = csv.reader(f)\n",
    "    next(csv_reader)\n",
    "    \n",
    "    writer_actors = csv.writer(actors)\n",
    "    writer_actors.writerow([\"actor_id\", \"name\", \"original_name\", \"gender\", \"popularity\"])\n",
    "    \n",
    "    writer_links = csv.writer(links)\n",
    "    writer_links.writerow([\"tmdb_movie_id\", \"actor_id\"])\n",
    "    \n",
    "    ids = set()\n",
    "    for row in csv_reader:\n",
    "        if int(row[3]) not in ids and row[2] == \"Actor\" :\n",
    "            ids.add(int(row[3]))\n",
    "            writer_actors.writerow(row[3:])\n",
    "        if row[2] == \"Actor\":\n",
    "            writer_links.writerow([row[1], row[3]])\n",
    "        "
   ]
  },
  {
   "cell_type": "code",
   "execution_count": 19,
   "metadata": {},
   "outputs": [],
   "source": [
    "with open(\"crew_cast.csv\", \"r\") as f, open(\"directors.csv\", \"w\", newline=\"\") as directors, open(\"links_crew.csv\", \"w\", newline=\"\") as links:\n",
    "    csv_reader = csv.reader(f)\n",
    "    next(csv_reader)\n",
    "    \n",
    "    writer_directors = csv.writer(directors)\n",
    "    writer_directors.writerow([\"director_id\", \"name\", \"original_name\", \"gender\", \"popularity\"])\n",
    "    \n",
    "    writer_links = csv.writer(links)\n",
    "    writer_links.writerow([\"tmdb_movie_id\", \"director_id\"])\n",
    "    \n",
    "    ids = set()\n",
    "    for row in csv_reader:\n",
    "        if int(row[3]) not in ids and row[2] == \"Director\" :\n",
    "            ids.add(int(row[3]))\n",
    "            writer_directors.writerow(row[3:])\n",
    "        if row[2] == \"Director\":\n",
    "            writer_links.writerow([row[1], row[3]])\n",
    "        "
   ]
  },
  {
   "cell_type": "code",
   "execution_count": 43,
   "metadata": {},
   "outputs": [],
   "source": [
    "with open(\"./genres.csv\", \"w\", newline=\"\") as f:\n",
    "    csv_writer = csv.writer(f)\n",
    "    csv_writer.writerow(['movie_id', 'genre'])\n",
    "    for index, row in df_movies.iterrows():\n",
    "        movie_id = row['movie_id']\n",
    "        for genre in row['genres']:\n",
    "            if (genre != \"\"):\n",
    "                csv_writer.writerow([movie_id, genre])"
   ]
  },
  {
   "cell_type": "code",
   "execution_count": 45,
   "metadata": {},
   "outputs": [],
   "source": [
    "with open(\"./movie_countries.csv\", \"w\", newline=\"\") as f:\n",
    "    csv_writer = csv.writer(f)\n",
    "    csv_writer.writerow(['movie_id', 'country'])\n",
    "    for index, row in df_movies.iterrows():\n",
    "        movie_id = row['movie_id']\n",
    "        for country in row['country']:\n",
    "            if (country != \"\"):\n",
    "                csv_writer.writerow([movie_id, country])"
   ]
  },
  {
   "cell_type": "code",
   "execution_count": null,
   "metadata": {},
   "outputs": [],
   "source": []
  }
 ],
 "metadata": {
  "kernelspec": {
   "display_name": "Python 3 (ipykernel)",
   "language": "python",
   "name": "python3"
  },
  "language_info": {
   "codemirror_mode": {
    "name": "ipython",
    "version": 3
   },
   "file_extension": ".py",
   "mimetype": "text/x-python",
   "name": "python",
   "nbconvert_exporter": "python",
   "pygments_lexer": "ipython3",
   "version": "3.9.10"
  }
 },
 "nbformat": 4,
 "nbformat_minor": 4
}
