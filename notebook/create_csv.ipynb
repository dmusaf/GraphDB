{
 "cells": [
  {
   "cell_type": "markdown",
   "metadata": {},
   "source": [
    "# Importing data"
   ]
  },
  {
   "cell_type": "code",
   "execution_count": 1,
   "metadata": {},
   "outputs": [],
   "source": [
    "import requests as r\n",
    "import json\n",
    "import pandas as pd\n",
    "from many_requests import ManyRequests\n",
    "import numpy as np\n",
    "import csv"
   ]
  },
  {
   "cell_type": "code",
   "execution_count": 2,
   "metadata": {},
   "outputs": [],
   "source": [
    "# Files to be imported\n",
    "path_links = \"./Data/links.csv\"\n",
    "path_imdb_movies = \"./Data/movie_ids.json\"\n",
    "path_ratings = \"./Data/ratings.csv\"\n",
    "\n",
    "# Files to be created\n",
    "path_relevant_ratings = \"./created/relevant_ratings_comp.csv\"\n",
    "path_movies = \"./created/movies.csv\"\n",
    "path_crew_cast = \"./created/crew_cast.csv\"\n",
    "\n",
    "NMOVIES = 50000\n",
    "\n",
    "API_KEY = \"341aa223bceaf3285598e2a6511bcd4b\""
   ]
  },
  {
   "cell_type": "markdown",
   "metadata": {},
   "source": [
    "## Importing movies and movie IDs"
   ]
  },
  {
   "cell_type": "markdown",
   "metadata": {},
   "source": [
    "### Movies"
   ]
  },
  {
   "cell_type": "code",
   "execution_count": 3,
   "metadata": {},
   "outputs": [
    {
     "data": {
      "text/html": [
       "<div>\n",
       "<style scoped>\n",
       "    .dataframe tbody tr th:only-of-type {\n",
       "        vertical-align: middle;\n",
       "    }\n",
       "\n",
       "    .dataframe tbody tr th {\n",
       "        vertical-align: top;\n",
       "    }\n",
       "\n",
       "    .dataframe thead th {\n",
       "        text-align: right;\n",
       "    }\n",
       "</style>\n",
       "<table border=\"1\" class=\"dataframe\">\n",
       "  <thead>\n",
       "    <tr style=\"text-align: right;\">\n",
       "      <th></th>\n",
       "      <th>adult</th>\n",
       "      <th>tmdb_id</th>\n",
       "      <th>original_title</th>\n",
       "      <th>popularity</th>\n",
       "      <th>video</th>\n",
       "    </tr>\n",
       "  </thead>\n",
       "  <tbody>\n",
       "    <tr>\n",
       "      <th>0</th>\n",
       "      <td>False</td>\n",
       "      <td>3924</td>\n",
       "      <td>Blondie</td>\n",
       "      <td>2.425</td>\n",
       "      <td>False</td>\n",
       "    </tr>\n",
       "    <tr>\n",
       "      <th>1</th>\n",
       "      <td>False</td>\n",
       "      <td>6124</td>\n",
       "      <td>Der Mann ohne Namen</td>\n",
       "      <td>0.961</td>\n",
       "      <td>False</td>\n",
       "    </tr>\n",
       "    <tr>\n",
       "      <th>2</th>\n",
       "      <td>False</td>\n",
       "      <td>8773</td>\n",
       "      <td>L'Amour à vingt ans</td>\n",
       "      <td>2.746</td>\n",
       "      <td>False</td>\n",
       "    </tr>\n",
       "    <tr>\n",
       "      <th>3</th>\n",
       "      <td>False</td>\n",
       "      <td>25449</td>\n",
       "      <td>New World Disorder 9: Never Enough</td>\n",
       "      <td>1.562</td>\n",
       "      <td>False</td>\n",
       "    </tr>\n",
       "    <tr>\n",
       "      <th>4</th>\n",
       "      <td>False</td>\n",
       "      <td>31975</td>\n",
       "      <td>Sesame Street: Elmo Loves You!</td>\n",
       "      <td>1.400</td>\n",
       "      <td>True</td>\n",
       "    </tr>\n",
       "  </tbody>\n",
       "</table>\n",
       "</div>"
      ],
      "text/plain": [
       "   adult  tmdb_id                      original_title  popularity  video\n",
       "0  False     3924                             Blondie       2.425  False\n",
       "1  False     6124                 Der Mann ohne Namen       0.961  False\n",
       "2  False     8773                 L'Amour à vingt ans       2.746  False\n",
       "3  False    25449  New World Disorder 9: Never Enough       1.562  False\n",
       "4  False    31975      Sesame Street: Elmo Loves You!       1.400   True"
      ]
     },
     "execution_count": 3,
     "metadata": {},
     "output_type": "execute_result"
    }
   ],
   "source": [
    "df_movies = pd.read_json(path_imdb_movies, lines = True)\n",
    "df_movies.rename(columns = {\"id\":\"tmdb_id\"}, inplace = True)\n",
    "df_movies.head()"
   ]
  },
  {
   "cell_type": "code",
   "execution_count": 4,
   "metadata": {},
   "outputs": [],
   "source": [
    "# L'id 470358 fournit une erreur lors des requêtes HTTP\n",
    "df_movies = df_movies.drop(df_movies[df_movies[\"tmdb_id\"] == 470358].index[0])"
   ]
  },
  {
   "cell_type": "markdown",
   "metadata": {},
   "source": [
    "### Movie IDs"
   ]
  },
  {
   "cell_type": "code",
   "execution_count": 5,
   "metadata": {},
   "outputs": [
    {
     "data": {
      "text/html": [
       "<div>\n",
       "<style scoped>\n",
       "    .dataframe tbody tr th:only-of-type {\n",
       "        vertical-align: middle;\n",
       "    }\n",
       "\n",
       "    .dataframe tbody tr th {\n",
       "        vertical-align: top;\n",
       "    }\n",
       "\n",
       "    .dataframe thead th {\n",
       "        text-align: right;\n",
       "    }\n",
       "</style>\n",
       "<table border=\"1\" class=\"dataframe\">\n",
       "  <thead>\n",
       "    <tr style=\"text-align: right;\">\n",
       "      <th></th>\n",
       "      <th>movieId</th>\n",
       "      <th>imdbId</th>\n",
       "      <th>tmdbId</th>\n",
       "    </tr>\n",
       "  </thead>\n",
       "  <tbody>\n",
       "    <tr>\n",
       "      <th>0</th>\n",
       "      <td>1</td>\n",
       "      <td>114709</td>\n",
       "      <td>862.0</td>\n",
       "    </tr>\n",
       "    <tr>\n",
       "      <th>1</th>\n",
       "      <td>2</td>\n",
       "      <td>113497</td>\n",
       "      <td>8844.0</td>\n",
       "    </tr>\n",
       "    <tr>\n",
       "      <th>2</th>\n",
       "      <td>3</td>\n",
       "      <td>113228</td>\n",
       "      <td>15602.0</td>\n",
       "    </tr>\n",
       "    <tr>\n",
       "      <th>3</th>\n",
       "      <td>4</td>\n",
       "      <td>114885</td>\n",
       "      <td>31357.0</td>\n",
       "    </tr>\n",
       "    <tr>\n",
       "      <th>4</th>\n",
       "      <td>5</td>\n",
       "      <td>113041</td>\n",
       "      <td>11862.0</td>\n",
       "    </tr>\n",
       "  </tbody>\n",
       "</table>\n",
       "</div>"
      ],
      "text/plain": [
       "   movieId  imdbId   tmdbId\n",
       "0        1  114709    862.0\n",
       "1        2  113497   8844.0\n",
       "2        3  113228  15602.0\n",
       "3        4  114885  31357.0\n",
       "4        5  113041  11862.0"
      ]
     },
     "execution_count": 5,
     "metadata": {},
     "output_type": "execute_result"
    }
   ],
   "source": [
    "df_links = pd.read_csv(path_links)\n",
    "df_links.head()"
   ]
  },
  {
   "cell_type": "code",
   "execution_count": 6,
   "metadata": {},
   "outputs": [
    {
     "data": {
      "text/html": [
       "<div>\n",
       "<style scoped>\n",
       "    .dataframe tbody tr th:only-of-type {\n",
       "        vertical-align: middle;\n",
       "    }\n",
       "\n",
       "    .dataframe tbody tr th {\n",
       "        vertical-align: top;\n",
       "    }\n",
       "\n",
       "    .dataframe thead th {\n",
       "        text-align: right;\n",
       "    }\n",
       "</style>\n",
       "<table border=\"1\" class=\"dataframe\">\n",
       "  <thead>\n",
       "    <tr style=\"text-align: right;\">\n",
       "      <th></th>\n",
       "      <th>movieId</th>\n",
       "      <th>imdbId</th>\n",
       "      <th>tmdbId</th>\n",
       "    </tr>\n",
       "  </thead>\n",
       "  <tbody>\n",
       "    <tr>\n",
       "      <th>0</th>\n",
       "      <td>1</td>\n",
       "      <td>114709</td>\n",
       "      <td>862</td>\n",
       "    </tr>\n",
       "    <tr>\n",
       "      <th>1</th>\n",
       "      <td>2</td>\n",
       "      <td>113497</td>\n",
       "      <td>8844</td>\n",
       "    </tr>\n",
       "    <tr>\n",
       "      <th>2</th>\n",
       "      <td>3</td>\n",
       "      <td>113228</td>\n",
       "      <td>15602</td>\n",
       "    </tr>\n",
       "    <tr>\n",
       "      <th>3</th>\n",
       "      <td>4</td>\n",
       "      <td>114885</td>\n",
       "      <td>31357</td>\n",
       "    </tr>\n",
       "    <tr>\n",
       "      <th>4</th>\n",
       "      <td>5</td>\n",
       "      <td>113041</td>\n",
       "      <td>11862</td>\n",
       "    </tr>\n",
       "  </tbody>\n",
       "</table>\n",
       "</div>"
      ],
      "text/plain": [
       "   movieId  imdbId  tmdbId\n",
       "0        1  114709     862\n",
       "1        2  113497    8844\n",
       "2        3  113228   15602\n",
       "3        4  114885   31357\n",
       "4        5  113041   11862"
      ]
     },
     "execution_count": 6,
     "metadata": {},
     "output_type": "execute_result"
    }
   ],
   "source": [
    "# Cleaning Null and duplicates values, switching tmdbId to integer\n",
    "df_links = df_links.dropna()\n",
    "df_links[\"tmdbId\"] = df_links[\"tmdbId\"].astype(int)\n",
    "df_links.drop_duplicates(subset = [\"tmdbId\"], inplace = True)\n",
    "df_links.head()"
   ]
  },
  {
   "cell_type": "code",
   "execution_count": 7,
   "metadata": {},
   "outputs": [
    {
     "data": {
      "text/html": [
       "<div>\n",
       "<style scoped>\n",
       "    .dataframe tbody tr th:only-of-type {\n",
       "        vertical-align: middle;\n",
       "    }\n",
       "\n",
       "    .dataframe tbody tr th {\n",
       "        vertical-align: top;\n",
       "    }\n",
       "\n",
       "    .dataframe thead th {\n",
       "        text-align: right;\n",
       "    }\n",
       "</style>\n",
       "<table border=\"1\" class=\"dataframe\">\n",
       "  <thead>\n",
       "    <tr style=\"text-align: right;\">\n",
       "      <th></th>\n",
       "      <th>movieId</th>\n",
       "      <th>imdbId</th>\n",
       "      <th>tmdbId</th>\n",
       "    </tr>\n",
       "  </thead>\n",
       "  <tbody>\n",
       "    <tr>\n",
       "      <th>0</th>\n",
       "      <td>1</td>\n",
       "      <td>114709</td>\n",
       "      <td>862</td>\n",
       "    </tr>\n",
       "    <tr>\n",
       "      <th>1</th>\n",
       "      <td>2</td>\n",
       "      <td>113497</td>\n",
       "      <td>8844</td>\n",
       "    </tr>\n",
       "    <tr>\n",
       "      <th>2</th>\n",
       "      <td>3</td>\n",
       "      <td>113228</td>\n",
       "      <td>15602</td>\n",
       "    </tr>\n",
       "    <tr>\n",
       "      <th>3</th>\n",
       "      <td>4</td>\n",
       "      <td>114885</td>\n",
       "      <td>31357</td>\n",
       "    </tr>\n",
       "    <tr>\n",
       "      <th>4</th>\n",
       "      <td>5</td>\n",
       "      <td>113041</td>\n",
       "      <td>11862</td>\n",
       "    </tr>\n",
       "  </tbody>\n",
       "</table>\n",
       "</div>"
      ],
      "text/plain": [
       "   movieId  imdbId  tmdbId\n",
       "0        1  114709     862\n",
       "1        2  113497    8844\n",
       "2        3  113228   15602\n",
       "3        4  114885   31357\n",
       "4        5  113041   11862"
      ]
     },
     "execution_count": 7,
     "metadata": {},
     "output_type": "execute_result"
    }
   ],
   "source": [
    "df_valid_links = df_links[df_links[\"tmdbId\"].isin(df_movies[\"tmdb_id\"])]\n",
    "df_valid_links.head()"
   ]
  },
  {
   "cell_type": "code",
   "execution_count": 8,
   "metadata": {},
   "outputs": [],
   "source": [
    "tmdb_ids = df_valid_links[\"tmdbId\"].head(NMOVIES).to_numpy()\n",
    "movie_ids = df_valid_links[\"movieId\"].head(NMOVIES).to_numpy()"
   ]
  },
  {
   "cell_type": "code",
   "execution_count": 9,
   "metadata": {},
   "outputs": [
    {
     "data": {
      "text/plain": [
       "50000"
      ]
     },
     "execution_count": 9,
     "metadata": {},
     "output_type": "execute_result"
    }
   ],
   "source": [
    "len(tmdb_ids)"
   ]
  },
  {
   "cell_type": "markdown",
   "metadata": {},
   "source": [
    "## Importing movie metadata, crew and cast, ratings"
   ]
  },
  {
   "cell_type": "markdown",
   "metadata": {},
   "source": [
    "### Metadata"
   ]
  },
  {
   "cell_type": "code",
   "execution_count": 11,
   "metadata": {},
   "outputs": [
    {
     "data": {
      "application/vnd.jupyter.widget-view+json": {
       "model_id": "da707d7e876d4994b46eaf72435a6988",
       "version_major": 2,
       "version_minor": 0
      },
      "text/plain": [
       "HBox(children=(HTML(value=''), FloatProgress(value=0.0, max=50000.0), HTML(value='')))"
      ]
     },
     "metadata": {},
     "output_type": "display_data"
    },
    {
     "name": "stderr",
     "output_type": "stream",
     "text": [
      "/Users/lucasketels/opt/anaconda3/lib/python3.8/site-packages/anyio/_backends/_trio.py:164: TrioDeprecationWarning: trio.MultiError is deprecated since Trio 0.22.0; use BaseExceptionGroup (on Python 3.11 and later) or exceptiongroup.BaseExceptionGroup (earlier versions) instead (https://github.com/python-trio/trio/issues/2211)\n",
      "  class ExceptionGroup(BaseExceptionGroup, trio.MultiError):\n"
     ]
    },
    {
     "name": "stdout",
     "output_type": "stream",
     "text": [
      "CPU times: user 6min 6s, sys: 20.6 s, total: 6min 27s\n",
      "Wall time: 11min 22s\n"
     ]
    }
   ],
   "source": [
    "%%time\n",
    "\n",
    "responses_metadata = ManyRequests(n_workers=30, n_connections=30, json=True)(\n",
    "    method='GET',\n",
    "    url=[f\"https://api.themoviedb.org/3/movie/{ID}?api_key={API_KEY}&language=en-US\" for ID in tmdb_ids])"
   ]
  },
  {
   "cell_type": "code",
   "execution_count": 12,
   "metadata": {},
   "outputs": [
    {
     "name": "stdout",
     "output_type": "stream",
     "text": [
      "\n"
     ]
    }
   ],
   "source": [
    "movie_genres = [[responses_metadata[i][\"genres\"][j][\"name\"] for j in range(len(responses_metadata[i][\"genres\"]))]\n",
    "                for i in range(len(responses_metadata))]\n",
    "\n",
    "movie_release_dates = [responses_metadata[i][\"release_date\"] for i in range(len(responses_metadata))]\n",
    "\n",
    "titles = [responses_metadata[i][\"original_title\"] for i in range(len(responses_metadata))]\n",
    "\n",
    "popularities = [responses_metadata[i][\"popularity\"] for i in range(len(responses_metadata))]\n",
    "\n",
    "duration = [responses_metadata[i][\"runtime\"] for i in range(len(responses_metadata))]\n",
    "\n",
    "studios = [[responses_metadata[i][\"production_companies\"][j][\"name\"] for j in range(len(responses_metadata[i][\"production_companies\"]))]\n",
    "                for i in range(len(responses_metadata))]\n",
    "\n",
    "\n",
    "df_movies = pd.DataFrame()\n",
    "\n",
    "df_movies[\"tmdb_id\"] = tmdb_ids\n",
    "df_movies[\"movie_id\"] = movie_ids\n",
    "df_movies[\"popularity\"] = popularities\n",
    "df_movies[\"original_title\"] = titles\n",
    "df_movies[\"genres\"] = movie_genres\n",
    "df_movies[\"release_date\"] = movie_release_dates\n",
    "df_movies[\"studios\"] = studios\n",
    "df_movies[\"duration\"] = duration"
   ]
  },
  {
   "cell_type": "code",
   "execution_count": 13,
   "metadata": {},
   "outputs": [
    {
     "data": {
      "text/html": [
       "<div>\n",
       "<style scoped>\n",
       "    .dataframe tbody tr th:only-of-type {\n",
       "        vertical-align: middle;\n",
       "    }\n",
       "\n",
       "    .dataframe tbody tr th {\n",
       "        vertical-align: top;\n",
       "    }\n",
       "\n",
       "    .dataframe thead th {\n",
       "        text-align: right;\n",
       "    }\n",
       "</style>\n",
       "<table border=\"1\" class=\"dataframe\">\n",
       "  <thead>\n",
       "    <tr style=\"text-align: right;\">\n",
       "      <th></th>\n",
       "      <th>tmdb_id</th>\n",
       "      <th>movie_id</th>\n",
       "      <th>popularity</th>\n",
       "      <th>original_title</th>\n",
       "      <th>genres</th>\n",
       "      <th>release_date</th>\n",
       "      <th>studios</th>\n",
       "      <th>duration</th>\n",
       "    </tr>\n",
       "  </thead>\n",
       "  <tbody>\n",
       "    <tr>\n",
       "      <th>0</th>\n",
       "      <td>862</td>\n",
       "      <td>1</td>\n",
       "      <td>121.584</td>\n",
       "      <td>Toy Story</td>\n",
       "      <td>[Animation, Adventure, Family, Comedy]</td>\n",
       "      <td>1995-10-30</td>\n",
       "      <td>[Pixar]</td>\n",
       "      <td>81</td>\n",
       "    </tr>\n",
       "    <tr>\n",
       "      <th>1</th>\n",
       "      <td>8844</td>\n",
       "      <td>2</td>\n",
       "      <td>15.254</td>\n",
       "      <td>Jumanji</td>\n",
       "      <td>[Adventure, Fantasy, Family]</td>\n",
       "      <td>1995-12-15</td>\n",
       "      <td>[TriStar Pictures, PolyGram Filmed Entertainme...</td>\n",
       "      <td>104</td>\n",
       "    </tr>\n",
       "    <tr>\n",
       "      <th>2</th>\n",
       "      <td>15602</td>\n",
       "      <td>3</td>\n",
       "      <td>12.317</td>\n",
       "      <td>Grumpier Old Men</td>\n",
       "      <td>[Romance, Comedy]</td>\n",
       "      <td>1995-12-22</td>\n",
       "      <td>[Warner Bros. Pictures, Lancaster Gate]</td>\n",
       "      <td>101</td>\n",
       "    </tr>\n",
       "    <tr>\n",
       "      <th>3</th>\n",
       "      <td>31357</td>\n",
       "      <td>4</td>\n",
       "      <td>14.013</td>\n",
       "      <td>Waiting to Exhale</td>\n",
       "      <td>[Comedy, Drama, Romance]</td>\n",
       "      <td>1995-12-22</td>\n",
       "      <td>[20th Century Fox]</td>\n",
       "      <td>127</td>\n",
       "    </tr>\n",
       "    <tr>\n",
       "      <th>4</th>\n",
       "      <td>11862</td>\n",
       "      <td>5</td>\n",
       "      <td>16.076</td>\n",
       "      <td>Father of the Bride Part II</td>\n",
       "      <td>[Comedy, Family]</td>\n",
       "      <td>1995-12-08</td>\n",
       "      <td>[Sandollar Productions, Touchstone Pictures]</td>\n",
       "      <td>106</td>\n",
       "    </tr>\n",
       "  </tbody>\n",
       "</table>\n",
       "</div>"
      ],
      "text/plain": [
       "   tmdb_id  movie_id  popularity               original_title  \\\n",
       "0      862         1     121.584                    Toy Story   \n",
       "1     8844         2      15.254                      Jumanji   \n",
       "2    15602         3      12.317             Grumpier Old Men   \n",
       "3    31357         4      14.013            Waiting to Exhale   \n",
       "4    11862         5      16.076  Father of the Bride Part II   \n",
       "\n",
       "                                   genres release_date  \\\n",
       "0  [Animation, Adventure, Family, Comedy]   1995-10-30   \n",
       "1            [Adventure, Fantasy, Family]   1995-12-15   \n",
       "2                       [Romance, Comedy]   1995-12-22   \n",
       "3                [Comedy, Drama, Romance]   1995-12-22   \n",
       "4                        [Comedy, Family]   1995-12-08   \n",
       "\n",
       "                                             studios  duration  \n",
       "0                                            [Pixar]        81  \n",
       "1  [TriStar Pictures, PolyGram Filmed Entertainme...       104  \n",
       "2            [Warner Bros. Pictures, Lancaster Gate]       101  \n",
       "3                                 [20th Century Fox]       127  \n",
       "4       [Sandollar Productions, Touchstone Pictures]       106  "
      ]
     },
     "execution_count": 13,
     "metadata": {},
     "output_type": "execute_result"
    }
   ],
   "source": [
    "df_movies.head()"
   ]
  },
  {
   "cell_type": "markdown",
   "metadata": {},
   "source": [
    "### Crew and cast"
   ]
  },
  {
   "cell_type": "code",
   "execution_count": 14,
   "metadata": {},
   "outputs": [
    {
     "data": {
      "application/vnd.jupyter.widget-view+json": {
       "model_id": "377a901dedff477697f6c2bd5972306b",
       "version_major": 2,
       "version_minor": 0
      },
      "text/plain": [
       "HBox(children=(HTML(value=''), FloatProgress(value=0.0, max=50000.0), HTML(value='')))"
      ]
     },
     "metadata": {},
     "output_type": "display_data"
    },
    {
     "name": "stdout",
     "output_type": "stream",
     "text": [
      "CPU times: user 6min 32s, sys: 26.9 s, total: 6min 59s\n",
      "Wall time: 12min 38s\n"
     ]
    }
   ],
   "source": [
    "%%time\n",
    "\n",
    "# index = 18565 problem -> no credits\n",
    "\n",
    "responses_crew_cast = ManyRequests(n_workers=30, n_connections=30, json=True)(\n",
    "        method='GET',\n",
    "        url=[f\"https://api.themoviedb.org/3/movie/{ID}/credits?api_key={API_KEY}&language=en-US\" \n",
    "         for ID in tmdb_ids])"
   ]
  },
  {
   "cell_type": "code",
   "execution_count": 15,
   "metadata": {},
   "outputs": [],
   "source": [
    "responses_crew_cast_copy = responses_crew_cast.copy()\n",
    "del responses_crew_cast[18565]"
   ]
  },
  {
   "cell_type": "code",
   "execution_count": 16,
   "metadata": {},
   "outputs": [],
   "source": [
    "keys = [\"id\", \"name\", \"original_name\", \"gender\", \"popularity\"]\n",
    "attendees = []\n",
    "for i in range(len(responses_crew_cast)):\n",
    "    for actor in responses_crew_cast[i][\"cast\"]:\n",
    "        attendee = {\"tmdb_movie_id\":responses_crew_cast[i][\"id\"], \"job\":\"Actor\"}\n",
    "        for key in keys:\n",
    "            attendee[key] = actor[key]\n",
    "        attendees.append(attendee)\n",
    "    for crew_member in responses_crew_cast[i][\"crew\"]:\n",
    "        if crew_member[\"job\"] != \"Director\":\n",
    "            continue\n",
    "        attendee = {\"tmdb_movie_id\":responses_crew_cast[i][\"id\"], \"job\":\"Director\"}\n",
    "        for key in keys:\n",
    "            attendee[key] = crew_member[key]\n",
    "        attendees.append(attendee)"
   ]
  },
  {
   "cell_type": "code",
   "execution_count": 17,
   "metadata": {},
   "outputs": [
    {
     "data": {
      "text/html": [
       "<div>\n",
       "<style scoped>\n",
       "    .dataframe tbody tr th:only-of-type {\n",
       "        vertical-align: middle;\n",
       "    }\n",
       "\n",
       "    .dataframe tbody tr th {\n",
       "        vertical-align: top;\n",
       "    }\n",
       "\n",
       "    .dataframe thead th {\n",
       "        text-align: right;\n",
       "    }\n",
       "</style>\n",
       "<table border=\"1\" class=\"dataframe\">\n",
       "  <thead>\n",
       "    <tr style=\"text-align: right;\">\n",
       "      <th></th>\n",
       "      <th>tmdb_movie_id</th>\n",
       "      <th>job</th>\n",
       "      <th>id</th>\n",
       "      <th>name</th>\n",
       "      <th>original_name</th>\n",
       "      <th>gender</th>\n",
       "      <th>popularity</th>\n",
       "    </tr>\n",
       "  </thead>\n",
       "  <tbody>\n",
       "    <tr>\n",
       "      <th>0</th>\n",
       "      <td>862</td>\n",
       "      <td>Actor</td>\n",
       "      <td>31</td>\n",
       "      <td>Tom Hanks</td>\n",
       "      <td>Tom Hanks</td>\n",
       "      <td>2</td>\n",
       "      <td>93.816</td>\n",
       "    </tr>\n",
       "    <tr>\n",
       "      <th>1</th>\n",
       "      <td>862</td>\n",
       "      <td>Actor</td>\n",
       "      <td>12898</td>\n",
       "      <td>Tim Allen</td>\n",
       "      <td>Tim Allen</td>\n",
       "      <td>2</td>\n",
       "      <td>21.325</td>\n",
       "    </tr>\n",
       "    <tr>\n",
       "      <th>2</th>\n",
       "      <td>862</td>\n",
       "      <td>Actor</td>\n",
       "      <td>7167</td>\n",
       "      <td>Don Rickles</td>\n",
       "      <td>Don Rickles</td>\n",
       "      <td>2</td>\n",
       "      <td>9.493</td>\n",
       "    </tr>\n",
       "    <tr>\n",
       "      <th>3</th>\n",
       "      <td>862</td>\n",
       "      <td>Actor</td>\n",
       "      <td>12899</td>\n",
       "      <td>Jim Varney</td>\n",
       "      <td>Jim Varney</td>\n",
       "      <td>2</td>\n",
       "      <td>12.994</td>\n",
       "    </tr>\n",
       "    <tr>\n",
       "      <th>4</th>\n",
       "      <td>862</td>\n",
       "      <td>Actor</td>\n",
       "      <td>12900</td>\n",
       "      <td>Wallace Shawn</td>\n",
       "      <td>Wallace Shawn</td>\n",
       "      <td>2</td>\n",
       "      <td>16.509</td>\n",
       "    </tr>\n",
       "  </tbody>\n",
       "</table>\n",
       "</div>"
      ],
      "text/plain": [
       "   tmdb_movie_id    job     id           name  original_name  gender  \\\n",
       "0            862  Actor     31      Tom Hanks      Tom Hanks       2   \n",
       "1            862  Actor  12898      Tim Allen      Tim Allen       2   \n",
       "2            862  Actor   7167    Don Rickles    Don Rickles       2   \n",
       "3            862  Actor  12899     Jim Varney     Jim Varney       2   \n",
       "4            862  Actor  12900  Wallace Shawn  Wallace Shawn       2   \n",
       "\n",
       "   popularity  \n",
       "0      93.816  \n",
       "1      21.325  \n",
       "2       9.493  \n",
       "3      12.994  \n",
       "4      16.509  "
      ]
     },
     "execution_count": 17,
     "metadata": {},
     "output_type": "execute_result"
    }
   ],
   "source": [
    "df_crew_cast = pd.DataFrame(attendees)\n",
    "df_crew_cast.head()"
   ]
  },
  {
   "cell_type": "markdown",
   "metadata": {},
   "source": [
    "### Ratings"
   ]
  },
  {
   "cell_type": "code",
   "execution_count": 18,
   "metadata": {},
   "outputs": [],
   "source": [
    "movie_ids_str = list(map(str, movie_ids))\n",
    "\n",
    "with open(path_ratings, 'r', encoding = \"utf8\") as inp, open(path_relevant_ratings, 'w') as out:\n",
    "    writer = csv.writer(out)\n",
    "    writer.writerow([\"user_id\", \"movie_id\", \"rating\"])\n",
    "    for row in csv.reader(inp):\n",
    "        if row[1] in movie_ids_str:\n",
    "            writer.writerow(row[:3])"
   ]
  },
  {
   "cell_type": "markdown",
   "metadata": {},
   "source": [
    "## To csv"
   ]
  },
  {
   "cell_type": "code",
   "execution_count": 77,
   "metadata": {},
   "outputs": [],
   "source": [
    "df_movies.to_csv(path_movies, index = False)\n",
    "df_crew_cast.to_csv(path_crew_cast)"
   ]
  },
  {
   "cell_type": "markdown",
   "metadata": {},
   "source": [
    "## Checking data"
   ]
  },
  {
   "cell_type": "code",
   "execution_count": 39,
   "metadata": {},
   "outputs": [],
   "source": [
    "df_id_rel_ratings = pd.read_csv(path_relevant_ratings)"
   ]
  },
  {
   "cell_type": "code",
   "execution_count": 40,
   "metadata": {},
   "outputs": [
    {
     "data": {
      "text/html": [
       "<div>\n",
       "<style scoped>\n",
       "    .dataframe tbody tr th:only-of-type {\n",
       "        vertical-align: middle;\n",
       "    }\n",
       "\n",
       "    .dataframe tbody tr th {\n",
       "        vertical-align: top;\n",
       "    }\n",
       "\n",
       "    .dataframe thead th {\n",
       "        text-align: right;\n",
       "    }\n",
       "</style>\n",
       "<table border=\"1\" class=\"dataframe\">\n",
       "  <thead>\n",
       "    <tr style=\"text-align: right;\">\n",
       "      <th></th>\n",
       "      <th>user_id</th>\n",
       "      <th>movie_id</th>\n",
       "      <th>rating</th>\n",
       "    </tr>\n",
       "  </thead>\n",
       "  <tbody>\n",
       "    <tr>\n",
       "      <th>0</th>\n",
       "      <td>1</td>\n",
       "      <td>307</td>\n",
       "      <td>3.5</td>\n",
       "    </tr>\n",
       "    <tr>\n",
       "      <th>1</th>\n",
       "      <td>1</td>\n",
       "      <td>481</td>\n",
       "      <td>3.5</td>\n",
       "    </tr>\n",
       "    <tr>\n",
       "      <th>2</th>\n",
       "      <td>1</td>\n",
       "      <td>1091</td>\n",
       "      <td>1.5</td>\n",
       "    </tr>\n",
       "    <tr>\n",
       "      <th>3</th>\n",
       "      <td>1</td>\n",
       "      <td>1257</td>\n",
       "      <td>4.5</td>\n",
       "    </tr>\n",
       "    <tr>\n",
       "      <th>4</th>\n",
       "      <td>1</td>\n",
       "      <td>1449</td>\n",
       "      <td>4.5</td>\n",
       "    </tr>\n",
       "    <tr>\n",
       "      <th>...</th>\n",
       "      <td>...</td>\n",
       "      <td>...</td>\n",
       "      <td>...</td>\n",
       "    </tr>\n",
       "    <tr>\n",
       "      <th>27614754</th>\n",
       "      <td>283228</td>\n",
       "      <td>8542</td>\n",
       "      <td>4.5</td>\n",
       "    </tr>\n",
       "    <tr>\n",
       "      <th>27614755</th>\n",
       "      <td>283228</td>\n",
       "      <td>8712</td>\n",
       "      <td>4.5</td>\n",
       "    </tr>\n",
       "    <tr>\n",
       "      <th>27614756</th>\n",
       "      <td>283228</td>\n",
       "      <td>34405</td>\n",
       "      <td>4.5</td>\n",
       "    </tr>\n",
       "    <tr>\n",
       "      <th>27614757</th>\n",
       "      <td>283228</td>\n",
       "      <td>44761</td>\n",
       "      <td>4.5</td>\n",
       "    </tr>\n",
       "    <tr>\n",
       "      <th>27614758</th>\n",
       "      <td>283228</td>\n",
       "      <td>54286</td>\n",
       "      <td>4.5</td>\n",
       "    </tr>\n",
       "  </tbody>\n",
       "</table>\n",
       "<p>27614759 rows × 3 columns</p>\n",
       "</div>"
      ],
      "text/plain": [
       "          user_id  movie_id  rating\n",
       "0               1       307     3.5\n",
       "1               1       481     3.5\n",
       "2               1      1091     1.5\n",
       "3               1      1257     4.5\n",
       "4               1      1449     4.5\n",
       "...           ...       ...     ...\n",
       "27614754   283228      8542     4.5\n",
       "27614755   283228      8712     4.5\n",
       "27614756   283228     34405     4.5\n",
       "27614757   283228     44761     4.5\n",
       "27614758   283228     54286     4.5\n",
       "\n",
       "[27614759 rows x 3 columns]"
      ]
     },
     "execution_count": 40,
     "metadata": {},
     "output_type": "execute_result"
    }
   ],
   "source": [
    "df_id_rel_ratings"
   ]
  },
  {
   "cell_type": "code",
   "execution_count": 41,
   "metadata": {},
   "outputs": [],
   "source": [
    "d = pd.DataFrame()\n",
    "d[\"id\"] = df_id_rel_ratings[\"movie_id\"]"
   ]
  },
  {
   "cell_type": "code",
   "execution_count": 42,
   "metadata": {},
   "outputs": [
    {
     "data": {
      "text/plain": [
       "True"
      ]
     },
     "execution_count": 42,
     "metadata": {},
     "output_type": "execute_result"
    }
   ],
   "source": [
    "# Checkin if all ids from ratings are in movie_ids\n",
    "len(d[d[\"id\"].isin(movie_ids)]) == len(d)"
   ]
  },
  {
   "cell_type": "code",
   "execution_count": 43,
   "metadata": {},
   "outputs": [
    {
     "data": {
      "text/plain": [
       "3580"
      ]
     },
     "execution_count": 43,
     "metadata": {},
     "output_type": "execute_result"
    }
   ],
   "source": [
    "d2 = pd.DataFrame()\n",
    "d2[\"id\"] = movie_ids\n",
    "\n",
    "ids_not_rated = d2[~d2[\"id\"].isin(d[\"id\"])]\n",
    "len(ids_not_rated) # number of movies not rated"
   ]
  },
  {
   "cell_type": "markdown",
   "metadata": {},
   "source": [
    "## Spliting data"
   ]
  },
  {
   "cell_type": "code",
   "execution_count": 44,
   "metadata": {},
   "outputs": [],
   "source": [
    "with open(path_crew_cast, \"r\") as f, open(\"./created/actors.csv\", \"w\", newline=\"\") as actors, open(\"./created/links_cast.csv\", \"w\", newline=\"\") as links:\n",
    "    csv_reader = csv.reader(f)\n",
    "    next(csv_reader)\n",
    "    \n",
    "    writer_actors = csv.writer(actors)\n",
    "    writer_actors.writerow([\"actor_id\", \"name\", \"original_name\", \"gender\", \"popularity\"])\n",
    "    \n",
    "    writer_links = csv.writer(links)\n",
    "    writer_links.writerow([\"tmdb_movie_id\", \"actor_id\"])\n",
    "    \n",
    "    ids = set()\n",
    "    for row in csv_reader:\n",
    "        if int(row[3]) not in ids and row[2] == \"Actor\" :\n",
    "            ids.add(int(row[3]))\n",
    "            writer_actors.writerow(row[3:])\n",
    "        if row[2] == \"Actor\":\n",
    "            writer_links.writerow([row[1], row[3]])\n",
    "        "
   ]
  },
  {
   "cell_type": "code",
   "execution_count": 45,
   "metadata": {},
   "outputs": [],
   "source": [
    "with open(path_crew_cast, \"r\") as f, open(\"./created/directors.csv\", \"w\", newline=\"\") as directors, open(\"./created/links_crew.csv\", \"w\", newline=\"\") as links:\n",
    "    csv_reader = csv.reader(f)\n",
    "    next(csv_reader)\n",
    "    \n",
    "    writer_directors = csv.writer(directors)\n",
    "    writer_directors.writerow([\"director_id\", \"name\", \"original_name\", \"gender\", \"popularity\"])\n",
    "    \n",
    "    writer_links = csv.writer(links)\n",
    "    writer_links.writerow([\"tmdb_movie_id\", \"director_id\"])\n",
    "    \n",
    "    ids = set()\n",
    "    for row in csv_reader:\n",
    "        if int(row[3]) not in ids and row[2] == \"Director\" :\n",
    "            ids.add(int(row[3]))\n",
    "            writer_directors.writerow(row[3:])\n",
    "        if row[2] == \"Director\":\n",
    "            writer_links.writerow([row[1], row[3]])\n",
    "        "
   ]
  }
 ],
 "metadata": {
  "kernelspec": {
   "display_name": "Python 3",
   "language": "python",
   "name": "python3"
  },
  "language_info": {
   "codemirror_mode": {
    "name": "ipython",
    "version": 3
   },
   "file_extension": ".py",
   "mimetype": "text/x-python",
   "name": "python",
   "nbconvert_exporter": "python",
   "pygments_lexer": "ipython3",
   "version": "3.8.5"
  }
 },
 "nbformat": 4,
 "nbformat_minor": 4
}
